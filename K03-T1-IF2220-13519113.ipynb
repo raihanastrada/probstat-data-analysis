{
 "cells": [
  {
   "cell_type": "code",
   "execution_count": 1,
   "metadata": {},
   "outputs": [],
   "source": [
    "import pandas as pd\n",
    "import matplotlib.pyplot as plt\n",
    "import seaborn as sns\n",
    "import numpy as np\n",
    "import scipy.stats as stats\n",
    "import math\n",
    "import os"
   ]
  },
  {
   "cell_type": "markdown",
   "metadata": {},
   "source": [
    "### Data Preparation\n",
    "Membaca data menggunakan pandas:"
   ]
  },
  {
   "cell_type": "code",
   "execution_count": 2,
   "metadata": {},
   "outputs": [],
   "source": [
    "col_names = ['id', 'Daerah', 'SumbuUtama', 'SumbuKecil', 'Keunikan', 'AreaBulatan', 'Diameter', 'KadarAir', 'Keliling', 'Bulatan', 'Ransum', 'Kelas']\n",
    "df = pd.read_csv('Gandum.csv', delimiter=',', names = col_names)"
   ]
  },
  {
   "cell_type": "markdown",
   "metadata": {},
   "source": [
    "Menampilkan *overview* dari data:"
   ]
  },
  {
   "cell_type": "code",
   "execution_count": 3,
   "metadata": {},
   "outputs": [
    {
     "data": {
      "text/html": [
       "<div>\n",
       "<style scoped>\n",
       "    .dataframe tbody tr th:only-of-type {\n",
       "        vertical-align: middle;\n",
       "    }\n",
       "\n",
       "    .dataframe tbody tr th {\n",
       "        vertical-align: top;\n",
       "    }\n",
       "\n",
       "    .dataframe thead th {\n",
       "        text-align: right;\n",
       "    }\n",
       "</style>\n",
       "<table border=\"1\" class=\"dataframe\">\n",
       "  <thead>\n",
       "    <tr style=\"text-align: right;\">\n",
       "      <th></th>\n",
       "      <th>id</th>\n",
       "      <th>Daerah</th>\n",
       "      <th>SumbuUtama</th>\n",
       "      <th>SumbuKecil</th>\n",
       "      <th>Keunikan</th>\n",
       "      <th>AreaBulatan</th>\n",
       "      <th>Diameter</th>\n",
       "      <th>KadarAir</th>\n",
       "      <th>Keliling</th>\n",
       "      <th>Bulatan</th>\n",
       "      <th>Ransum</th>\n",
       "      <th>Kelas</th>\n",
       "    </tr>\n",
       "  </thead>\n",
       "  <tbody>\n",
       "    <tr>\n",
       "      <th>0</th>\n",
       "      <td>1</td>\n",
       "      <td>5781</td>\n",
       "      <td>128.288875</td>\n",
       "      <td>58.470846</td>\n",
       "      <td>0.890095</td>\n",
       "      <td>5954</td>\n",
       "      <td>85.793926</td>\n",
       "      <td>0.674090</td>\n",
       "      <td>316.756</td>\n",
       "      <td>0.724041</td>\n",
       "      <td>2.194066</td>\n",
       "      <td>1</td>\n",
       "    </tr>\n",
       "    <tr>\n",
       "      <th>1</th>\n",
       "      <td>2</td>\n",
       "      <td>4176</td>\n",
       "      <td>109.348294</td>\n",
       "      <td>49.837688</td>\n",
       "      <td>0.890098</td>\n",
       "      <td>4277</td>\n",
       "      <td>72.918093</td>\n",
       "      <td>0.596231</td>\n",
       "      <td>260.346</td>\n",
       "      <td>0.774227</td>\n",
       "      <td>2.194088</td>\n",
       "      <td>1</td>\n",
       "    </tr>\n",
       "    <tr>\n",
       "      <th>2</th>\n",
       "      <td>3</td>\n",
       "      <td>4555</td>\n",
       "      <td>114.427991</td>\n",
       "      <td>52.151207</td>\n",
       "      <td>0.890105</td>\n",
       "      <td>4706</td>\n",
       "      <td>76.155145</td>\n",
       "      <td>0.776641</td>\n",
       "      <td>279.606</td>\n",
       "      <td>0.732159</td>\n",
       "      <td>2.194158</td>\n",
       "      <td>1</td>\n",
       "    </tr>\n",
       "    <tr>\n",
       "      <th>3</th>\n",
       "      <td>4</td>\n",
       "      <td>4141</td>\n",
       "      <td>108.701191</td>\n",
       "      <td>49.457349</td>\n",
       "      <td>0.890499</td>\n",
       "      <td>4236</td>\n",
       "      <td>72.611879</td>\n",
       "      <td>0.633180</td>\n",
       "      <td>260.478</td>\n",
       "      <td>0.766960</td>\n",
       "      <td>2.197877</td>\n",
       "      <td>1</td>\n",
       "    </tr>\n",
       "    <tr>\n",
       "      <th>4</th>\n",
       "      <td>5</td>\n",
       "      <td>5273</td>\n",
       "      <td>122.747869</td>\n",
       "      <td>55.757848</td>\n",
       "      <td>0.890876</td>\n",
       "      <td>5431</td>\n",
       "      <td>81.937733</td>\n",
       "      <td>0.669842</td>\n",
       "      <td>302.730</td>\n",
       "      <td>0.723031</td>\n",
       "      <td>2.201446</td>\n",
       "      <td>1</td>\n",
       "    </tr>\n",
       "  </tbody>\n",
       "</table>\n",
       "</div>"
      ],
      "text/plain": [
       "   id  Daerah  SumbuUtama  SumbuKecil  Keunikan  AreaBulatan   Diameter  \\\n",
       "0   1    5781  128.288875   58.470846  0.890095         5954  85.793926   \n",
       "1   2    4176  109.348294   49.837688  0.890098         4277  72.918093   \n",
       "2   3    4555  114.427991   52.151207  0.890105         4706  76.155145   \n",
       "3   4    4141  108.701191   49.457349  0.890499         4236  72.611879   \n",
       "4   5    5273  122.747869   55.757848  0.890876         5431  81.937733   \n",
       "\n",
       "   KadarAir  Keliling   Bulatan    Ransum  Kelas  \n",
       "0  0.674090   316.756  0.724041  2.194066      1  \n",
       "1  0.596231   260.346  0.774227  2.194088      1  \n",
       "2  0.776641   279.606  0.732159  2.194158      1  \n",
       "3  0.633180   260.478  0.766960  2.197877      1  \n",
       "4  0.669842   302.730  0.723031  2.201446      1  "
      ]
     },
     "execution_count": 3,
     "metadata": {},
     "output_type": "execute_result"
    }
   ],
   "source": [
    "df.head()"
   ]
  },
  {
   "cell_type": "markdown",
   "metadata": {},
   "source": [
    "### Data Cleaning"
   ]
  },
  {
   "cell_type": "markdown",
   "metadata": {},
   "source": [
    "Mengecek apakah terdapat data-data kosong. Data-data yang kosong perlu dibersihkan karena mampu mempengaruhi ketepatan nilai hasil perhitungan"
   ]
  },
  {
   "cell_type": "code",
   "execution_count": 4,
   "metadata": {},
   "outputs": [
    {
     "data": {
      "text/plain": [
       "id             0\n",
       "Daerah         0\n",
       "SumbuUtama     0\n",
       "SumbuKecil     0\n",
       "Keunikan       0\n",
       "AreaBulatan    0\n",
       "Diameter       0\n",
       "KadarAir       0\n",
       "Keliling       0\n",
       "Bulatan        0\n",
       "Ransum         0\n",
       "Kelas          0\n",
       "dtype: int64"
      ]
     },
     "execution_count": 4,
     "metadata": {},
     "output_type": "execute_result"
    }
   ],
   "source": [
    "df.isnull().sum()"
   ]
  },
  {
   "cell_type": "markdown",
   "metadata": {},
   "source": [
    "Karena tidak terdapat data yang bernilai kosong, maka kita tidak perlu melakukan proses pembersihan data"
   ]
  },
  {
   "cell_type": "markdown",
   "metadata": {},
   "source": [
    "### Data Processing\n",
    "#### 1. Menulis deskripsi statistika (Descriptive Statistics) dari semua kolom pada data yang bersifat numerik"
   ]
  },
  {
   "cell_type": "markdown",
   "metadata": {},
   "source": [
    "##### a) Mean"
   ]
  },
  {
   "cell_type": "code",
   "execution_count": 5,
   "metadata": {
    "scrolled": true
   },
   "outputs": [
    {
     "data": {
      "text/plain": [
       "id              250.500\n",
       "Daerah         4801.246\n",
       "SumbuUtama      116.045\n",
       "SumbuKecil       53.715\n",
       "Keunikan          0.879\n",
       "AreaBulatan    4937.048\n",
       "Diameter         77.771\n",
       "KadarAir          0.648\n",
       "Keliling        281.480\n",
       "Bulatan           0.762\n",
       "Ransum            2.151\n",
       "Kelas             1.502\n",
       "dtype: float64"
      ]
     },
     "execution_count": 5,
     "metadata": {},
     "output_type": "execute_result"
    }
   ],
   "source": [
    "df.mean(numeric_only = True).round(3)"
   ]
  },
  {
   "cell_type": "markdown",
   "metadata": {},
   "source": [
    "##### b) Median"
   ]
  },
  {
   "cell_type": "code",
   "execution_count": 6,
   "metadata": {},
   "outputs": [
    {
     "data": {
      "text/plain": [
       "id              250.500\n",
       "Daerah         4735.000\n",
       "SumbuUtama      115.405\n",
       "SumbuKecil       53.731\n",
       "Keunikan          0.890\n",
       "AreaBulatan    4857.000\n",
       "Diameter         77.645\n",
       "KadarAir          0.626\n",
       "Keliling        280.045\n",
       "Bulatan           0.761\n",
       "Ransum            2.194\n",
       "Kelas             2.000\n",
       "dtype: float64"
      ]
     },
     "execution_count": 6,
     "metadata": {},
     "output_type": "execute_result"
    }
   ],
   "source": [
    "df.median(numeric_only = True).round(3)"
   ]
  },
  {
   "cell_type": "markdown",
   "metadata": {},
   "source": [
    "##### c) Modus"
   ]
  },
  {
   "cell_type": "code",
   "execution_count": 7,
   "metadata": {},
   "outputs": [
    {
     "data": {
      "text/html": [
       "<div>\n",
       "<style scoped>\n",
       "    .dataframe tbody tr th:only-of-type {\n",
       "        vertical-align: middle;\n",
       "    }\n",
       "\n",
       "    .dataframe tbody tr th {\n",
       "        vertical-align: top;\n",
       "    }\n",
       "\n",
       "    .dataframe thead th {\n",
       "        text-align: right;\n",
       "    }\n",
       "</style>\n",
       "<table border=\"1\" class=\"dataframe\">\n",
       "  <thead>\n",
       "    <tr style=\"text-align: right;\">\n",
       "      <th></th>\n",
       "      <th>id</th>\n",
       "      <th>Daerah</th>\n",
       "      <th>SumbuUtama</th>\n",
       "      <th>SumbuKecil</th>\n",
       "      <th>Keunikan</th>\n",
       "      <th>AreaBulatan</th>\n",
       "      <th>Diameter</th>\n",
       "      <th>KadarAir</th>\n",
       "      <th>Keliling</th>\n",
       "      <th>Bulatan</th>\n",
       "      <th>Ransum</th>\n",
       "      <th>Kelas</th>\n",
       "    </tr>\n",
       "  </thead>\n",
       "  <tbody>\n",
       "    <tr>\n",
       "      <th>0</th>\n",
       "      <td>1</td>\n",
       "      <td>3992.0</td>\n",
       "      <td>74.133</td>\n",
       "      <td>39.907</td>\n",
       "      <td>0.720</td>\n",
       "      <td>3802.0</td>\n",
       "      <td>71.294</td>\n",
       "      <td>0.736</td>\n",
       "      <td>197.015</td>\n",
       "      <td>0.175</td>\n",
       "      <td>1.441</td>\n",
       "      <td>2.0</td>\n",
       "    </tr>\n",
       "    <tr>\n",
       "      <th>1</th>\n",
       "      <td>2</td>\n",
       "      <td>4881.0</td>\n",
       "      <td>74.364</td>\n",
       "      <td>41.436</td>\n",
       "      <td>0.726</td>\n",
       "      <td>4913.0</td>\n",
       "      <td>78.833</td>\n",
       "      <td>0.824</td>\n",
       "      <td>200.587</td>\n",
       "      <td>0.261</td>\n",
       "      <td>1.453</td>\n",
       "      <td>NaN</td>\n",
       "    </tr>\n",
       "    <tr>\n",
       "      <th>2</th>\n",
       "      <td>3</td>\n",
       "      <td>5642.0</td>\n",
       "      <td>74.692</td>\n",
       "      <td>42.872</td>\n",
       "      <td>0.731</td>\n",
       "      <td>NaN</td>\n",
       "      <td>84.756</td>\n",
       "      <td>NaN</td>\n",
       "      <td>202.456</td>\n",
       "      <td>0.299</td>\n",
       "      <td>1.466</td>\n",
       "      <td>NaN</td>\n",
       "    </tr>\n",
       "    <tr>\n",
       "      <th>3</th>\n",
       "      <td>4</td>\n",
       "      <td>6083.0</td>\n",
       "      <td>76.293</td>\n",
       "      <td>43.285</td>\n",
       "      <td>0.739</td>\n",
       "      <td>NaN</td>\n",
       "      <td>88.006</td>\n",
       "      <td>NaN</td>\n",
       "      <td>207.325</td>\n",
       "      <td>0.589</td>\n",
       "      <td>1.483</td>\n",
       "      <td>NaN</td>\n",
       "    </tr>\n",
       "    <tr>\n",
       "      <th>4</th>\n",
       "      <td>5</td>\n",
       "      <td>NaN</td>\n",
       "      <td>76.789</td>\n",
       "      <td>44.119</td>\n",
       "      <td>0.749</td>\n",
       "      <td>NaN</td>\n",
       "      <td>NaN</td>\n",
       "      <td>NaN</td>\n",
       "      <td>207.697</td>\n",
       "      <td>0.604</td>\n",
       "      <td>1.510</td>\n",
       "      <td>NaN</td>\n",
       "    </tr>\n",
       "    <tr>\n",
       "      <th>5</th>\n",
       "      <td>6</td>\n",
       "      <td>NaN</td>\n",
       "      <td>77.034</td>\n",
       "      <td>44.123</td>\n",
       "      <td>0.753</td>\n",
       "      <td>NaN</td>\n",
       "      <td>NaN</td>\n",
       "      <td>NaN</td>\n",
       "      <td>208.317</td>\n",
       "      <td>0.618</td>\n",
       "      <td>1.519</td>\n",
       "      <td>NaN</td>\n",
       "    </tr>\n",
       "    <tr>\n",
       "      <th>6</th>\n",
       "      <td>7</td>\n",
       "      <td>NaN</td>\n",
       "      <td>77.048</td>\n",
       "      <td>44.555</td>\n",
       "      <td>0.754</td>\n",
       "      <td>NaN</td>\n",
       "      <td>NaN</td>\n",
       "      <td>NaN</td>\n",
       "      <td>209.823</td>\n",
       "      <td>0.619</td>\n",
       "      <td>1.522</td>\n",
       "      <td>NaN</td>\n",
       "    </tr>\n",
       "    <tr>\n",
       "      <th>7</th>\n",
       "      <td>8</td>\n",
       "      <td>NaN</td>\n",
       "      <td>77.091</td>\n",
       "      <td>44.632</td>\n",
       "      <td>0.761</td>\n",
       "      <td>NaN</td>\n",
       "      <td>NaN</td>\n",
       "      <td>NaN</td>\n",
       "      <td>210.012</td>\n",
       "      <td>0.622</td>\n",
       "      <td>1.540</td>\n",
       "      <td>NaN</td>\n",
       "    </tr>\n",
       "    <tr>\n",
       "      <th>8</th>\n",
       "      <td>9</td>\n",
       "      <td>NaN</td>\n",
       "      <td>77.417</td>\n",
       "      <td>44.803</td>\n",
       "      <td>0.761</td>\n",
       "      <td>NaN</td>\n",
       "      <td>NaN</td>\n",
       "      <td>NaN</td>\n",
       "      <td>210.657</td>\n",
       "      <td>0.643</td>\n",
       "      <td>1.542</td>\n",
       "      <td>NaN</td>\n",
       "    </tr>\n",
       "    <tr>\n",
       "      <th>9</th>\n",
       "      <td>10</td>\n",
       "      <td>NaN</td>\n",
       "      <td>81.278</td>\n",
       "      <td>44.810</td>\n",
       "      <td>0.763</td>\n",
       "      <td>NaN</td>\n",
       "      <td>NaN</td>\n",
       "      <td>NaN</td>\n",
       "      <td>211.667</td>\n",
       "      <td>0.655</td>\n",
       "      <td>1.547</td>\n",
       "      <td>NaN</td>\n",
       "    </tr>\n",
       "    <tr>\n",
       "      <th>10</th>\n",
       "      <td>11</td>\n",
       "      <td>NaN</td>\n",
       "      <td>81.304</td>\n",
       "      <td>44.875</td>\n",
       "      <td>0.763</td>\n",
       "      <td>NaN</td>\n",
       "      <td>NaN</td>\n",
       "      <td>NaN</td>\n",
       "      <td>214.338</td>\n",
       "      <td>0.662</td>\n",
       "      <td>1.548</td>\n",
       "      <td>NaN</td>\n",
       "    </tr>\n",
       "    <tr>\n",
       "      <th>11</th>\n",
       "      <td>12</td>\n",
       "      <td>NaN</td>\n",
       "      <td>82.570</td>\n",
       "      <td>44.941</td>\n",
       "      <td>0.764</td>\n",
       "      <td>NaN</td>\n",
       "      <td>NaN</td>\n",
       "      <td>NaN</td>\n",
       "      <td>214.440</td>\n",
       "      <td>0.671</td>\n",
       "      <td>1.550</td>\n",
       "      <td>NaN</td>\n",
       "    </tr>\n",
       "    <tr>\n",
       "      <th>12</th>\n",
       "      <td>13</td>\n",
       "      <td>NaN</td>\n",
       "      <td>82.878</td>\n",
       "      <td>45.241</td>\n",
       "      <td>0.769</td>\n",
       "      <td>NaN</td>\n",
       "      <td>NaN</td>\n",
       "      <td>NaN</td>\n",
       "      <td>216.930</td>\n",
       "      <td>0.671</td>\n",
       "      <td>1.565</td>\n",
       "      <td>NaN</td>\n",
       "    </tr>\n",
       "    <tr>\n",
       "      <th>13</th>\n",
       "      <td>14</td>\n",
       "      <td>NaN</td>\n",
       "      <td>83.378</td>\n",
       "      <td>45.262</td>\n",
       "      <td>0.774</td>\n",
       "      <td>NaN</td>\n",
       "      <td>NaN</td>\n",
       "      <td>NaN</td>\n",
       "      <td>218.773</td>\n",
       "      <td>0.672</td>\n",
       "      <td>1.580</td>\n",
       "      <td>NaN</td>\n",
       "    </tr>\n",
       "    <tr>\n",
       "      <th>14</th>\n",
       "      <td>15</td>\n",
       "      <td>NaN</td>\n",
       "      <td>83.823</td>\n",
       "      <td>45.374</td>\n",
       "      <td>0.776</td>\n",
       "      <td>NaN</td>\n",
       "      <td>NaN</td>\n",
       "      <td>NaN</td>\n",
       "      <td>219.663</td>\n",
       "      <td>0.672</td>\n",
       "      <td>1.587</td>\n",
       "      <td>NaN</td>\n",
       "    </tr>\n",
       "    <tr>\n",
       "      <th>15</th>\n",
       "      <td>16</td>\n",
       "      <td>NaN</td>\n",
       "      <td>84.058</td>\n",
       "      <td>45.529</td>\n",
       "      <td>0.777</td>\n",
       "      <td>NaN</td>\n",
       "      <td>NaN</td>\n",
       "      <td>NaN</td>\n",
       "      <td>221.295</td>\n",
       "      <td>0.673</td>\n",
       "      <td>1.587</td>\n",
       "      <td>NaN</td>\n",
       "    </tr>\n",
       "    <tr>\n",
       "      <th>16</th>\n",
       "      <td>17</td>\n",
       "      <td>NaN</td>\n",
       "      <td>84.324</td>\n",
       "      <td>45.784</td>\n",
       "      <td>0.778</td>\n",
       "      <td>NaN</td>\n",
       "      <td>NaN</td>\n",
       "      <td>NaN</td>\n",
       "      <td>221.380</td>\n",
       "      <td>0.675</td>\n",
       "      <td>1.590</td>\n",
       "      <td>NaN</td>\n",
       "    </tr>\n",
       "    <tr>\n",
       "      <th>17</th>\n",
       "      <td>18</td>\n",
       "      <td>NaN</td>\n",
       "      <td>84.541</td>\n",
       "      <td>45.883</td>\n",
       "      <td>0.786</td>\n",
       "      <td>NaN</td>\n",
       "      <td>NaN</td>\n",
       "      <td>NaN</td>\n",
       "      <td>222.373</td>\n",
       "      <td>0.676</td>\n",
       "      <td>1.619</td>\n",
       "      <td>NaN</td>\n",
       "    </tr>\n",
       "    <tr>\n",
       "      <th>18</th>\n",
       "      <td>19</td>\n",
       "      <td>NaN</td>\n",
       "      <td>84.581</td>\n",
       "      <td>45.898</td>\n",
       "      <td>0.796</td>\n",
       "      <td>NaN</td>\n",
       "      <td>NaN</td>\n",
       "      <td>NaN</td>\n",
       "      <td>223.117</td>\n",
       "      <td>0.677</td>\n",
       "      <td>1.653</td>\n",
       "      <td>NaN</td>\n",
       "    </tr>\n",
       "    <tr>\n",
       "      <th>19</th>\n",
       "      <td>20</td>\n",
       "      <td>NaN</td>\n",
       "      <td>85.125</td>\n",
       "      <td>46.013</td>\n",
       "      <td>0.797</td>\n",
       "      <td>NaN</td>\n",
       "      <td>NaN</td>\n",
       "      <td>NaN</td>\n",
       "      <td>224.485</td>\n",
       "      <td>0.680</td>\n",
       "      <td>1.655</td>\n",
       "      <td>NaN</td>\n",
       "    </tr>\n",
       "    <tr>\n",
       "      <th>20</th>\n",
       "      <td>21</td>\n",
       "      <td>NaN</td>\n",
       "      <td>86.568</td>\n",
       "      <td>46.050</td>\n",
       "      <td>0.800</td>\n",
       "      <td>NaN</td>\n",
       "      <td>NaN</td>\n",
       "      <td>NaN</td>\n",
       "      <td>225.237</td>\n",
       "      <td>0.680</td>\n",
       "      <td>1.668</td>\n",
       "      <td>NaN</td>\n",
       "    </tr>\n",
       "    <tr>\n",
       "      <th>21</th>\n",
       "      <td>22</td>\n",
       "      <td>NaN</td>\n",
       "      <td>86.952</td>\n",
       "      <td>46.239</td>\n",
       "      <td>0.802</td>\n",
       "      <td>NaN</td>\n",
       "      <td>NaN</td>\n",
       "      <td>NaN</td>\n",
       "      <td>226.049</td>\n",
       "      <td>0.685</td>\n",
       "      <td>1.676</td>\n",
       "      <td>NaN</td>\n",
       "    </tr>\n",
       "    <tr>\n",
       "      <th>22</th>\n",
       "      <td>23</td>\n",
       "      <td>NaN</td>\n",
       "      <td>87.385</td>\n",
       "      <td>46.812</td>\n",
       "      <td>0.804</td>\n",
       "      <td>NaN</td>\n",
       "      <td>NaN</td>\n",
       "      <td>NaN</td>\n",
       "      <td>226.454</td>\n",
       "      <td>0.686</td>\n",
       "      <td>1.680</td>\n",
       "      <td>NaN</td>\n",
       "    </tr>\n",
       "    <tr>\n",
       "      <th>23</th>\n",
       "      <td>24</td>\n",
       "      <td>NaN</td>\n",
       "      <td>87.413</td>\n",
       "      <td>46.838</td>\n",
       "      <td>0.804</td>\n",
       "      <td>NaN</td>\n",
       "      <td>NaN</td>\n",
       "      <td>NaN</td>\n",
       "      <td>226.793</td>\n",
       "      <td>0.687</td>\n",
       "      <td>1.683</td>\n",
       "      <td>NaN</td>\n",
       "    </tr>\n",
       "    <tr>\n",
       "      <th>24</th>\n",
       "      <td>25</td>\n",
       "      <td>NaN</td>\n",
       "      <td>87.978</td>\n",
       "      <td>46.943</td>\n",
       "      <td>0.805</td>\n",
       "      <td>NaN</td>\n",
       "      <td>NaN</td>\n",
       "      <td>NaN</td>\n",
       "      <td>227.007</td>\n",
       "      <td>0.688</td>\n",
       "      <td>1.687</td>\n",
       "      <td>NaN</td>\n",
       "    </tr>\n",
       "    <tr>\n",
       "      <th>25</th>\n",
       "      <td>26</td>\n",
       "      <td>NaN</td>\n",
       "      <td>87.987</td>\n",
       "      <td>46.992</td>\n",
       "      <td>0.806</td>\n",
       "      <td>NaN</td>\n",
       "      <td>NaN</td>\n",
       "      <td>NaN</td>\n",
       "      <td>227.562</td>\n",
       "      <td>0.688</td>\n",
       "      <td>1.688</td>\n",
       "      <td>NaN</td>\n",
       "    </tr>\n",
       "    <tr>\n",
       "      <th>26</th>\n",
       "      <td>27</td>\n",
       "      <td>NaN</td>\n",
       "      <td>88.002</td>\n",
       "      <td>47.026</td>\n",
       "      <td>0.808</td>\n",
       "      <td>NaN</td>\n",
       "      <td>NaN</td>\n",
       "      <td>NaN</td>\n",
       "      <td>227.853</td>\n",
       "      <td>0.691</td>\n",
       "      <td>1.697</td>\n",
       "      <td>NaN</td>\n",
       "    </tr>\n",
       "    <tr>\n",
       "      <th>27</th>\n",
       "      <td>28</td>\n",
       "      <td>NaN</td>\n",
       "      <td>88.029</td>\n",
       "      <td>47.125</td>\n",
       "      <td>0.808</td>\n",
       "      <td>NaN</td>\n",
       "      <td>NaN</td>\n",
       "      <td>NaN</td>\n",
       "      <td>227.906</td>\n",
       "      <td>0.694</td>\n",
       "      <td>1.699</td>\n",
       "      <td>NaN</td>\n",
       "    </tr>\n",
       "    <tr>\n",
       "      <th>28</th>\n",
       "      <td>29</td>\n",
       "      <td>NaN</td>\n",
       "      <td>88.116</td>\n",
       "      <td>47.133</td>\n",
       "      <td>0.809</td>\n",
       "      <td>NaN</td>\n",
       "      <td>NaN</td>\n",
       "      <td>NaN</td>\n",
       "      <td>227.934</td>\n",
       "      <td>0.694</td>\n",
       "      <td>1.701</td>\n",
       "      <td>NaN</td>\n",
       "    </tr>\n",
       "    <tr>\n",
       "      <th>29</th>\n",
       "      <td>30</td>\n",
       "      <td>NaN</td>\n",
       "      <td>88.780</td>\n",
       "      <td>47.140</td>\n",
       "      <td>0.810</td>\n",
       "      <td>NaN</td>\n",
       "      <td>NaN</td>\n",
       "      <td>NaN</td>\n",
       "      <td>228.007</td>\n",
       "      <td>0.695</td>\n",
       "      <td>1.707</td>\n",
       "      <td>NaN</td>\n",
       "    </tr>\n",
       "    <tr>\n",
       "      <th>...</th>\n",
       "      <td>...</td>\n",
       "      <td>...</td>\n",
       "      <td>...</td>\n",
       "      <td>...</td>\n",
       "      <td>...</td>\n",
       "      <td>...</td>\n",
       "      <td>...</td>\n",
       "      <td>...</td>\n",
       "      <td>...</td>\n",
       "      <td>...</td>\n",
       "      <td>...</td>\n",
       "      <td>...</td>\n",
       "    </tr>\n",
       "    <tr>\n",
       "      <th>470</th>\n",
       "      <td>471</td>\n",
       "      <td>NaN</td>\n",
       "      <td>141.412</td>\n",
       "      <td>60.157</td>\n",
       "      <td>0.913</td>\n",
       "      <td>NaN</td>\n",
       "      <td>NaN</td>\n",
       "      <td>NaN</td>\n",
       "      <td>339.413</td>\n",
       "      <td>0.842</td>\n",
       "      <td>2.445</td>\n",
       "      <td>NaN</td>\n",
       "    </tr>\n",
       "    <tr>\n",
       "      <th>471</th>\n",
       "      <td>472</td>\n",
       "      <td>NaN</td>\n",
       "      <td>141.773</td>\n",
       "      <td>60.178</td>\n",
       "      <td>0.913</td>\n",
       "      <td>NaN</td>\n",
       "      <td>NaN</td>\n",
       "      <td>NaN</td>\n",
       "      <td>340.020</td>\n",
       "      <td>0.843</td>\n",
       "      <td>2.446</td>\n",
       "      <td>NaN</td>\n",
       "    </tr>\n",
       "    <tr>\n",
       "      <th>472</th>\n",
       "      <td>473</td>\n",
       "      <td>NaN</td>\n",
       "      <td>142.081</td>\n",
       "      <td>60.262</td>\n",
       "      <td>0.913</td>\n",
       "      <td>NaN</td>\n",
       "      <td>NaN</td>\n",
       "      <td>NaN</td>\n",
       "      <td>340.600</td>\n",
       "      <td>0.843</td>\n",
       "      <td>2.447</td>\n",
       "      <td>NaN</td>\n",
       "    </tr>\n",
       "    <tr>\n",
       "      <th>473</th>\n",
       "      <td>474</td>\n",
       "      <td>NaN</td>\n",
       "      <td>142.347</td>\n",
       "      <td>60.416</td>\n",
       "      <td>0.913</td>\n",
       "      <td>NaN</td>\n",
       "      <td>NaN</td>\n",
       "      <td>NaN</td>\n",
       "      <td>340.726</td>\n",
       "      <td>0.844</td>\n",
       "      <td>2.449</td>\n",
       "      <td>NaN</td>\n",
       "    </tr>\n",
       "    <tr>\n",
       "      <th>474</th>\n",
       "      <td>475</td>\n",
       "      <td>NaN</td>\n",
       "      <td>142.381</td>\n",
       "      <td>60.632</td>\n",
       "      <td>0.913</td>\n",
       "      <td>NaN</td>\n",
       "      <td>NaN</td>\n",
       "      <td>NaN</td>\n",
       "      <td>341.702</td>\n",
       "      <td>0.844</td>\n",
       "      <td>2.449</td>\n",
       "      <td>NaN</td>\n",
       "    </tr>\n",
       "    <tr>\n",
       "      <th>475</th>\n",
       "      <td>476</td>\n",
       "      <td>NaN</td>\n",
       "      <td>142.403</td>\n",
       "      <td>60.714</td>\n",
       "      <td>0.913</td>\n",
       "      <td>NaN</td>\n",
       "      <td>NaN</td>\n",
       "      <td>NaN</td>\n",
       "      <td>342.257</td>\n",
       "      <td>0.845</td>\n",
       "      <td>2.450</td>\n",
       "      <td>NaN</td>\n",
       "    </tr>\n",
       "    <tr>\n",
       "      <th>476</th>\n",
       "      <td>477</td>\n",
       "      <td>NaN</td>\n",
       "      <td>142.534</td>\n",
       "      <td>60.753</td>\n",
       "      <td>0.913</td>\n",
       "      <td>NaN</td>\n",
       "      <td>NaN</td>\n",
       "      <td>NaN</td>\n",
       "      <td>342.990</td>\n",
       "      <td>0.846</td>\n",
       "      <td>2.450</td>\n",
       "      <td>NaN</td>\n",
       "    </tr>\n",
       "    <tr>\n",
       "      <th>477</th>\n",
       "      <td>478</td>\n",
       "      <td>NaN</td>\n",
       "      <td>142.950</td>\n",
       "      <td>60.777</td>\n",
       "      <td>0.913</td>\n",
       "      <td>NaN</td>\n",
       "      <td>NaN</td>\n",
       "      <td>NaN</td>\n",
       "      <td>343.706</td>\n",
       "      <td>0.847</td>\n",
       "      <td>2.450</td>\n",
       "      <td>NaN</td>\n",
       "    </tr>\n",
       "    <tr>\n",
       "      <th>478</th>\n",
       "      <td>479</td>\n",
       "      <td>NaN</td>\n",
       "      <td>143.912</td>\n",
       "      <td>60.842</td>\n",
       "      <td>0.913</td>\n",
       "      <td>NaN</td>\n",
       "      <td>NaN</td>\n",
       "      <td>NaN</td>\n",
       "      <td>343.917</td>\n",
       "      <td>0.848</td>\n",
       "      <td>2.450</td>\n",
       "      <td>NaN</td>\n",
       "    </tr>\n",
       "    <tr>\n",
       "      <th>479</th>\n",
       "      <td>480</td>\n",
       "      <td>NaN</td>\n",
       "      <td>144.267</td>\n",
       "      <td>60.866</td>\n",
       "      <td>0.913</td>\n",
       "      <td>NaN</td>\n",
       "      <td>NaN</td>\n",
       "      <td>NaN</td>\n",
       "      <td>344.138</td>\n",
       "      <td>0.848</td>\n",
       "      <td>2.451</td>\n",
       "      <td>NaN</td>\n",
       "    </tr>\n",
       "    <tr>\n",
       "      <th>480</th>\n",
       "      <td>481</td>\n",
       "      <td>NaN</td>\n",
       "      <td>144.359</td>\n",
       "      <td>61.181</td>\n",
       "      <td>0.913</td>\n",
       "      <td>NaN</td>\n",
       "      <td>NaN</td>\n",
       "      <td>NaN</td>\n",
       "      <td>346.308</td>\n",
       "      <td>0.848</td>\n",
       "      <td>2.452</td>\n",
       "      <td>NaN</td>\n",
       "    </tr>\n",
       "    <tr>\n",
       "      <th>481</th>\n",
       "      <td>482</td>\n",
       "      <td>NaN</td>\n",
       "      <td>144.433</td>\n",
       "      <td>61.253</td>\n",
       "      <td>0.913</td>\n",
       "      <td>NaN</td>\n",
       "      <td>NaN</td>\n",
       "      <td>NaN</td>\n",
       "      <td>346.714</td>\n",
       "      <td>0.849</td>\n",
       "      <td>2.453</td>\n",
       "      <td>NaN</td>\n",
       "    </tr>\n",
       "    <tr>\n",
       "      <th>482</th>\n",
       "      <td>483</td>\n",
       "      <td>NaN</td>\n",
       "      <td>144.449</td>\n",
       "      <td>61.312</td>\n",
       "      <td>0.913</td>\n",
       "      <td>NaN</td>\n",
       "      <td>NaN</td>\n",
       "      <td>NaN</td>\n",
       "      <td>347.364</td>\n",
       "      <td>0.850</td>\n",
       "      <td>2.453</td>\n",
       "      <td>NaN</td>\n",
       "    </tr>\n",
       "    <tr>\n",
       "      <th>483</th>\n",
       "      <td>484</td>\n",
       "      <td>NaN</td>\n",
       "      <td>144.907</td>\n",
       "      <td>61.565</td>\n",
       "      <td>0.913</td>\n",
       "      <td>NaN</td>\n",
       "      <td>NaN</td>\n",
       "      <td>NaN</td>\n",
       "      <td>348.085</td>\n",
       "      <td>0.850</td>\n",
       "      <td>2.453</td>\n",
       "      <td>NaN</td>\n",
       "    </tr>\n",
       "    <tr>\n",
       "      <th>484</th>\n",
       "      <td>485</td>\n",
       "      <td>NaN</td>\n",
       "      <td>146.177</td>\n",
       "      <td>61.674</td>\n",
       "      <td>0.913</td>\n",
       "      <td>NaN</td>\n",
       "      <td>NaN</td>\n",
       "      <td>NaN</td>\n",
       "      <td>348.740</td>\n",
       "      <td>0.850</td>\n",
       "      <td>2.454</td>\n",
       "      <td>NaN</td>\n",
       "    </tr>\n",
       "    <tr>\n",
       "      <th>485</th>\n",
       "      <td>486</td>\n",
       "      <td>NaN</td>\n",
       "      <td>146.372</td>\n",
       "      <td>61.754</td>\n",
       "      <td>0.913</td>\n",
       "      <td>NaN</td>\n",
       "      <td>NaN</td>\n",
       "      <td>NaN</td>\n",
       "      <td>352.718</td>\n",
       "      <td>0.851</td>\n",
       "      <td>2.454</td>\n",
       "      <td>NaN</td>\n",
       "    </tr>\n",
       "    <tr>\n",
       "      <th>486</th>\n",
       "      <td>487</td>\n",
       "      <td>NaN</td>\n",
       "      <td>146.590</td>\n",
       "      <td>61.933</td>\n",
       "      <td>0.913</td>\n",
       "      <td>NaN</td>\n",
       "      <td>NaN</td>\n",
       "      <td>NaN</td>\n",
       "      <td>353.032</td>\n",
       "      <td>0.856</td>\n",
       "      <td>2.455</td>\n",
       "      <td>NaN</td>\n",
       "    </tr>\n",
       "    <tr>\n",
       "      <th>487</th>\n",
       "      <td>488</td>\n",
       "      <td>NaN</td>\n",
       "      <td>146.696</td>\n",
       "      <td>62.175</td>\n",
       "      <td>0.913</td>\n",
       "      <td>NaN</td>\n",
       "      <td>NaN</td>\n",
       "      <td>NaN</td>\n",
       "      <td>353.285</td>\n",
       "      <td>0.858</td>\n",
       "      <td>2.457</td>\n",
       "      <td>NaN</td>\n",
       "    </tr>\n",
       "    <tr>\n",
       "      <th>488</th>\n",
       "      <td>489</td>\n",
       "      <td>NaN</td>\n",
       "      <td>146.729</td>\n",
       "      <td>62.215</td>\n",
       "      <td>0.913</td>\n",
       "      <td>NaN</td>\n",
       "      <td>NaN</td>\n",
       "      <td>NaN</td>\n",
       "      <td>354.483</td>\n",
       "      <td>0.863</td>\n",
       "      <td>2.457</td>\n",
       "      <td>NaN</td>\n",
       "    </tr>\n",
       "    <tr>\n",
       "      <th>489</th>\n",
       "      <td>490</td>\n",
       "      <td>NaN</td>\n",
       "      <td>147.006</td>\n",
       "      <td>62.268</td>\n",
       "      <td>0.913</td>\n",
       "      <td>NaN</td>\n",
       "      <td>NaN</td>\n",
       "      <td>NaN</td>\n",
       "      <td>357.414</td>\n",
       "      <td>0.864</td>\n",
       "      <td>2.458</td>\n",
       "      <td>NaN</td>\n",
       "    </tr>\n",
       "    <tr>\n",
       "      <th>490</th>\n",
       "      <td>491</td>\n",
       "      <td>NaN</td>\n",
       "      <td>147.139</td>\n",
       "      <td>62.305</td>\n",
       "      <td>0.914</td>\n",
       "      <td>NaN</td>\n",
       "      <td>NaN</td>\n",
       "      <td>NaN</td>\n",
       "      <td>359.911</td>\n",
       "      <td>0.867</td>\n",
       "      <td>2.459</td>\n",
       "      <td>NaN</td>\n",
       "    </tr>\n",
       "    <tr>\n",
       "      <th>491</th>\n",
       "      <td>492</td>\n",
       "      <td>NaN</td>\n",
       "      <td>147.429</td>\n",
       "      <td>62.349</td>\n",
       "      <td>0.914</td>\n",
       "      <td>NaN</td>\n",
       "      <td>NaN</td>\n",
       "      <td>NaN</td>\n",
       "      <td>362.021</td>\n",
       "      <td>0.868</td>\n",
       "      <td>2.459</td>\n",
       "      <td>NaN</td>\n",
       "    </tr>\n",
       "    <tr>\n",
       "      <th>492</th>\n",
       "      <td>493</td>\n",
       "      <td>NaN</td>\n",
       "      <td>147.891</td>\n",
       "      <td>62.466</td>\n",
       "      <td>0.914</td>\n",
       "      <td>NaN</td>\n",
       "      <td>NaN</td>\n",
       "      <td>NaN</td>\n",
       "      <td>365.062</td>\n",
       "      <td>0.868</td>\n",
       "      <td>2.460</td>\n",
       "      <td>NaN</td>\n",
       "    </tr>\n",
       "    <tr>\n",
       "      <th>493</th>\n",
       "      <td>494</td>\n",
       "      <td>NaN</td>\n",
       "      <td>150.430</td>\n",
       "      <td>62.950</td>\n",
       "      <td>0.914</td>\n",
       "      <td>NaN</td>\n",
       "      <td>NaN</td>\n",
       "      <td>NaN</td>\n",
       "      <td>366.620</td>\n",
       "      <td>0.870</td>\n",
       "      <td>2.460</td>\n",
       "      <td>NaN</td>\n",
       "    </tr>\n",
       "    <tr>\n",
       "      <th>494</th>\n",
       "      <td>495</td>\n",
       "      <td>NaN</td>\n",
       "      <td>151.602</td>\n",
       "      <td>62.962</td>\n",
       "      <td>0.914</td>\n",
       "      <td>NaN</td>\n",
       "      <td>NaN</td>\n",
       "      <td>NaN</td>\n",
       "      <td>367.844</td>\n",
       "      <td>0.871</td>\n",
       "      <td>2.461</td>\n",
       "      <td>NaN</td>\n",
       "    </tr>\n",
       "    <tr>\n",
       "      <th>495</th>\n",
       "      <td>496</td>\n",
       "      <td>NaN</td>\n",
       "      <td>152.068</td>\n",
       "      <td>63.323</td>\n",
       "      <td>0.914</td>\n",
       "      <td>NaN</td>\n",
       "      <td>NaN</td>\n",
       "      <td>NaN</td>\n",
       "      <td>375.651</td>\n",
       "      <td>0.872</td>\n",
       "      <td>2.461</td>\n",
       "      <td>NaN</td>\n",
       "    </tr>\n",
       "    <tr>\n",
       "      <th>496</th>\n",
       "      <td>497</td>\n",
       "      <td>NaN</td>\n",
       "      <td>152.113</td>\n",
       "      <td>63.762</td>\n",
       "      <td>0.914</td>\n",
       "      <td>NaN</td>\n",
       "      <td>NaN</td>\n",
       "      <td>NaN</td>\n",
       "      <td>390.125</td>\n",
       "      <td>0.874</td>\n",
       "      <td>2.462</td>\n",
       "      <td>NaN</td>\n",
       "    </tr>\n",
       "    <tr>\n",
       "      <th>497</th>\n",
       "      <td>498</td>\n",
       "      <td>NaN</td>\n",
       "      <td>153.583</td>\n",
       "      <td>64.013</td>\n",
       "      <td>0.914</td>\n",
       "      <td>NaN</td>\n",
       "      <td>NaN</td>\n",
       "      <td>NaN</td>\n",
       "      <td>434.235</td>\n",
       "      <td>0.875</td>\n",
       "      <td>2.463</td>\n",
       "      <td>NaN</td>\n",
       "    </tr>\n",
       "    <tr>\n",
       "      <th>498</th>\n",
       "      <td>499</td>\n",
       "      <td>NaN</td>\n",
       "      <td>227.105</td>\n",
       "      <td>65.738</td>\n",
       "      <td>0.914</td>\n",
       "      <td>NaN</td>\n",
       "      <td>NaN</td>\n",
       "      <td>NaN</td>\n",
       "      <td>448.305</td>\n",
       "      <td>0.892</td>\n",
       "      <td>2.464</td>\n",
       "      <td>NaN</td>\n",
       "    </tr>\n",
       "    <tr>\n",
       "      <th>499</th>\n",
       "      <td>500</td>\n",
       "      <td>NaN</td>\n",
       "      <td>227.929</td>\n",
       "      <td>68.978</td>\n",
       "      <td>0.914</td>\n",
       "      <td>NaN</td>\n",
       "      <td>NaN</td>\n",
       "      <td>NaN</td>\n",
       "      <td>488.837</td>\n",
       "      <td>0.905</td>\n",
       "      <td>2.465</td>\n",
       "      <td>NaN</td>\n",
       "    </tr>\n",
       "  </tbody>\n",
       "</table>\n",
       "<p>500 rows × 12 columns</p>\n",
       "</div>"
      ],
      "text/plain": [
       "      id  Daerah  SumbuUtama  SumbuKecil  Keunikan  AreaBulatan  Diameter  \\\n",
       "0      1  3992.0      74.133      39.907     0.720       3802.0    71.294   \n",
       "1      2  4881.0      74.364      41.436     0.726       4913.0    78.833   \n",
       "2      3  5642.0      74.692      42.872     0.731          NaN    84.756   \n",
       "3      4  6083.0      76.293      43.285     0.739          NaN    88.006   \n",
       "4      5     NaN      76.789      44.119     0.749          NaN       NaN   \n",
       "5      6     NaN      77.034      44.123     0.753          NaN       NaN   \n",
       "6      7     NaN      77.048      44.555     0.754          NaN       NaN   \n",
       "7      8     NaN      77.091      44.632     0.761          NaN       NaN   \n",
       "8      9     NaN      77.417      44.803     0.761          NaN       NaN   \n",
       "9     10     NaN      81.278      44.810     0.763          NaN       NaN   \n",
       "10    11     NaN      81.304      44.875     0.763          NaN       NaN   \n",
       "11    12     NaN      82.570      44.941     0.764          NaN       NaN   \n",
       "12    13     NaN      82.878      45.241     0.769          NaN       NaN   \n",
       "13    14     NaN      83.378      45.262     0.774          NaN       NaN   \n",
       "14    15     NaN      83.823      45.374     0.776          NaN       NaN   \n",
       "15    16     NaN      84.058      45.529     0.777          NaN       NaN   \n",
       "16    17     NaN      84.324      45.784     0.778          NaN       NaN   \n",
       "17    18     NaN      84.541      45.883     0.786          NaN       NaN   \n",
       "18    19     NaN      84.581      45.898     0.796          NaN       NaN   \n",
       "19    20     NaN      85.125      46.013     0.797          NaN       NaN   \n",
       "20    21     NaN      86.568      46.050     0.800          NaN       NaN   \n",
       "21    22     NaN      86.952      46.239     0.802          NaN       NaN   \n",
       "22    23     NaN      87.385      46.812     0.804          NaN       NaN   \n",
       "23    24     NaN      87.413      46.838     0.804          NaN       NaN   \n",
       "24    25     NaN      87.978      46.943     0.805          NaN       NaN   \n",
       "25    26     NaN      87.987      46.992     0.806          NaN       NaN   \n",
       "26    27     NaN      88.002      47.026     0.808          NaN       NaN   \n",
       "27    28     NaN      88.029      47.125     0.808          NaN       NaN   \n",
       "28    29     NaN      88.116      47.133     0.809          NaN       NaN   \n",
       "29    30     NaN      88.780      47.140     0.810          NaN       NaN   \n",
       "..   ...     ...         ...         ...       ...          ...       ...   \n",
       "470  471     NaN     141.412      60.157     0.913          NaN       NaN   \n",
       "471  472     NaN     141.773      60.178     0.913          NaN       NaN   \n",
       "472  473     NaN     142.081      60.262     0.913          NaN       NaN   \n",
       "473  474     NaN     142.347      60.416     0.913          NaN       NaN   \n",
       "474  475     NaN     142.381      60.632     0.913          NaN       NaN   \n",
       "475  476     NaN     142.403      60.714     0.913          NaN       NaN   \n",
       "476  477     NaN     142.534      60.753     0.913          NaN       NaN   \n",
       "477  478     NaN     142.950      60.777     0.913          NaN       NaN   \n",
       "478  479     NaN     143.912      60.842     0.913          NaN       NaN   \n",
       "479  480     NaN     144.267      60.866     0.913          NaN       NaN   \n",
       "480  481     NaN     144.359      61.181     0.913          NaN       NaN   \n",
       "481  482     NaN     144.433      61.253     0.913          NaN       NaN   \n",
       "482  483     NaN     144.449      61.312     0.913          NaN       NaN   \n",
       "483  484     NaN     144.907      61.565     0.913          NaN       NaN   \n",
       "484  485     NaN     146.177      61.674     0.913          NaN       NaN   \n",
       "485  486     NaN     146.372      61.754     0.913          NaN       NaN   \n",
       "486  487     NaN     146.590      61.933     0.913          NaN       NaN   \n",
       "487  488     NaN     146.696      62.175     0.913          NaN       NaN   \n",
       "488  489     NaN     146.729      62.215     0.913          NaN       NaN   \n",
       "489  490     NaN     147.006      62.268     0.913          NaN       NaN   \n",
       "490  491     NaN     147.139      62.305     0.914          NaN       NaN   \n",
       "491  492     NaN     147.429      62.349     0.914          NaN       NaN   \n",
       "492  493     NaN     147.891      62.466     0.914          NaN       NaN   \n",
       "493  494     NaN     150.430      62.950     0.914          NaN       NaN   \n",
       "494  495     NaN     151.602      62.962     0.914          NaN       NaN   \n",
       "495  496     NaN     152.068      63.323     0.914          NaN       NaN   \n",
       "496  497     NaN     152.113      63.762     0.914          NaN       NaN   \n",
       "497  498     NaN     153.583      64.013     0.914          NaN       NaN   \n",
       "498  499     NaN     227.105      65.738     0.914          NaN       NaN   \n",
       "499  500     NaN     227.929      68.978     0.914          NaN       NaN   \n",
       "\n",
       "     KadarAir  Keliling  Bulatan  Ransum  Kelas  \n",
       "0       0.736   197.015    0.175   1.441    2.0  \n",
       "1       0.824   200.587    0.261   1.453    NaN  \n",
       "2         NaN   202.456    0.299   1.466    NaN  \n",
       "3         NaN   207.325    0.589   1.483    NaN  \n",
       "4         NaN   207.697    0.604   1.510    NaN  \n",
       "5         NaN   208.317    0.618   1.519    NaN  \n",
       "6         NaN   209.823    0.619   1.522    NaN  \n",
       "7         NaN   210.012    0.622   1.540    NaN  \n",
       "8         NaN   210.657    0.643   1.542    NaN  \n",
       "9         NaN   211.667    0.655   1.547    NaN  \n",
       "10        NaN   214.338    0.662   1.548    NaN  \n",
       "11        NaN   214.440    0.671   1.550    NaN  \n",
       "12        NaN   216.930    0.671   1.565    NaN  \n",
       "13        NaN   218.773    0.672   1.580    NaN  \n",
       "14        NaN   219.663    0.672   1.587    NaN  \n",
       "15        NaN   221.295    0.673   1.587    NaN  \n",
       "16        NaN   221.380    0.675   1.590    NaN  \n",
       "17        NaN   222.373    0.676   1.619    NaN  \n",
       "18        NaN   223.117    0.677   1.653    NaN  \n",
       "19        NaN   224.485    0.680   1.655    NaN  \n",
       "20        NaN   225.237    0.680   1.668    NaN  \n",
       "21        NaN   226.049    0.685   1.676    NaN  \n",
       "22        NaN   226.454    0.686   1.680    NaN  \n",
       "23        NaN   226.793    0.687   1.683    NaN  \n",
       "24        NaN   227.007    0.688   1.687    NaN  \n",
       "25        NaN   227.562    0.688   1.688    NaN  \n",
       "26        NaN   227.853    0.691   1.697    NaN  \n",
       "27        NaN   227.906    0.694   1.699    NaN  \n",
       "28        NaN   227.934    0.694   1.701    NaN  \n",
       "29        NaN   228.007    0.695   1.707    NaN  \n",
       "..        ...       ...      ...     ...    ...  \n",
       "470       NaN   339.413    0.842   2.445    NaN  \n",
       "471       NaN   340.020    0.843   2.446    NaN  \n",
       "472       NaN   340.600    0.843   2.447    NaN  \n",
       "473       NaN   340.726    0.844   2.449    NaN  \n",
       "474       NaN   341.702    0.844   2.449    NaN  \n",
       "475       NaN   342.257    0.845   2.450    NaN  \n",
       "476       NaN   342.990    0.846   2.450    NaN  \n",
       "477       NaN   343.706    0.847   2.450    NaN  \n",
       "478       NaN   343.917    0.848   2.450    NaN  \n",
       "479       NaN   344.138    0.848   2.451    NaN  \n",
       "480       NaN   346.308    0.848   2.452    NaN  \n",
       "481       NaN   346.714    0.849   2.453    NaN  \n",
       "482       NaN   347.364    0.850   2.453    NaN  \n",
       "483       NaN   348.085    0.850   2.453    NaN  \n",
       "484       NaN   348.740    0.850   2.454    NaN  \n",
       "485       NaN   352.718    0.851   2.454    NaN  \n",
       "486       NaN   353.032    0.856   2.455    NaN  \n",
       "487       NaN   353.285    0.858   2.457    NaN  \n",
       "488       NaN   354.483    0.863   2.457    NaN  \n",
       "489       NaN   357.414    0.864   2.458    NaN  \n",
       "490       NaN   359.911    0.867   2.459    NaN  \n",
       "491       NaN   362.021    0.868   2.459    NaN  \n",
       "492       NaN   365.062    0.868   2.460    NaN  \n",
       "493       NaN   366.620    0.870   2.460    NaN  \n",
       "494       NaN   367.844    0.871   2.461    NaN  \n",
       "495       NaN   375.651    0.872   2.461    NaN  \n",
       "496       NaN   390.125    0.874   2.462    NaN  \n",
       "497       NaN   434.235    0.875   2.463    NaN  \n",
       "498       NaN   448.305    0.892   2.464    NaN  \n",
       "499       NaN   488.837    0.905   2.465    NaN  \n",
       "\n",
       "[500 rows x 12 columns]"
      ]
     },
     "execution_count": 7,
     "metadata": {},
     "output_type": "execute_result"
    }
   ],
   "source": [
    "df.mode(numeric_only = True).round(3)"
   ]
  },
  {
   "cell_type": "markdown",
   "metadata": {},
   "source": [
    "Dari tabel diatas, dapat kita lihat bahwa kolom **id**, **SumbuUtama**, **SumbuKecil**, **Keunikan**, **Keliling**, **Bulatan**, dan **Ransum** memiliki baris sepanjang 500. Hal tersebut berarti untuk kolom-kolom tersebut **tidak terdapat nilai modusnya** karena setiap nilainya bersifat unik. Kolom yang memiliki nilai modus adalah **Daerah**, **AreaBulatan**, **Diameter**, **KadarAir** dan **Kelas**."
   ]
  },
  {
   "cell_type": "markdown",
   "metadata": {},
   "source": [
    "Modus Daerah"
   ]
  },
  {
   "cell_type": "code",
   "execution_count": 8,
   "metadata": {},
   "outputs": [
    {
     "data": {
      "text/plain": [
       "0    3992\n",
       "1    4881\n",
       "2    5642\n",
       "3    6083\n",
       "dtype: int64"
      ]
     },
     "execution_count": 8,
     "metadata": {},
     "output_type": "execute_result"
    }
   ],
   "source": [
    "df['Daerah'].mode().round(3)"
   ]
  },
  {
   "cell_type": "markdown",
   "metadata": {},
   "source": [
    "Modus AreaBulatan"
   ]
  },
  {
   "cell_type": "code",
   "execution_count": 9,
   "metadata": {},
   "outputs": [
    {
     "data": {
      "text/plain": [
       "0    3802\n",
       "1    4913\n",
       "dtype: int64"
      ]
     },
     "execution_count": 9,
     "metadata": {},
     "output_type": "execute_result"
    }
   ],
   "source": [
    "df['AreaBulatan'].mode().round(3)"
   ]
  },
  {
   "cell_type": "markdown",
   "metadata": {},
   "source": [
    "Modus Diameter"
   ]
  },
  {
   "cell_type": "code",
   "execution_count": 10,
   "metadata": {},
   "outputs": [
    {
     "data": {
      "text/plain": [
       "0    71.294\n",
       "1    78.833\n",
       "2    84.756\n",
       "3    88.006\n",
       "dtype: float64"
      ]
     },
     "execution_count": 10,
     "metadata": {},
     "output_type": "execute_result"
    }
   ],
   "source": [
    "df['Diameter'].mode().round(3)"
   ]
  },
  {
   "cell_type": "markdown",
   "metadata": {},
   "source": [
    "Modus KadarAir"
   ]
  },
  {
   "cell_type": "code",
   "execution_count": 11,
   "metadata": {},
   "outputs": [
    {
     "data": {
      "text/plain": [
       "0    0.736\n",
       "1    0.824\n",
       "dtype: float64"
      ]
     },
     "execution_count": 11,
     "metadata": {},
     "output_type": "execute_result"
    }
   ],
   "source": [
    "df['KadarAir'].mode().round(3)"
   ]
  },
  {
   "cell_type": "markdown",
   "metadata": {},
   "source": [
    "Modus Kelas"
   ]
  },
  {
   "cell_type": "code",
   "execution_count": 12,
   "metadata": {},
   "outputs": [
    {
     "data": {
      "text/plain": [
       "0    2\n",
       "dtype: int64"
      ]
     },
     "execution_count": 12,
     "metadata": {},
     "output_type": "execute_result"
    }
   ],
   "source": [
    "df['Kelas'].mode().round(3)"
   ]
  },
  {
   "cell_type": "markdown",
   "metadata": {},
   "source": [
    "##### d) Standar Deviasi"
   ]
  },
  {
   "cell_type": "code",
   "execution_count": 13,
   "metadata": {},
   "outputs": [
    {
     "data": {
      "text/plain": [
       "id              144.482\n",
       "Daerah          986.395\n",
       "SumbuUtama       18.283\n",
       "SumbuKecil        4.071\n",
       "Keunikan          0.037\n",
       "AreaBulatan    1011.696\n",
       "Diameter          8.057\n",
       "KadarAir          0.094\n",
       "Keliling         37.335\n",
       "Bulatan           0.062\n",
       "Ransum            0.250\n",
       "Kelas             0.500\n",
       "dtype: float64"
      ]
     },
     "execution_count": 13,
     "metadata": {},
     "output_type": "execute_result"
    }
   ],
   "source": [
    "df.std(numeric_only = True).round(3)"
   ]
  },
  {
   "cell_type": "markdown",
   "metadata": {},
   "source": [
    "##### e) Variansi"
   ]
  },
  {
   "cell_type": "code",
   "execution_count": 14,
   "metadata": {},
   "outputs": [
    {
     "data": {
      "text/plain": [
       "id               20875.000\n",
       "Daerah          972976.066\n",
       "SumbuUtama         334.254\n",
       "SumbuKecil          16.574\n",
       "Keunikan             0.001\n",
       "AreaBulatan    1023529.312\n",
       "Diameter            64.913\n",
       "KadarAir             0.009\n",
       "Keliling          1393.932\n",
       "Bulatan              0.004\n",
       "Ransum               0.062\n",
       "Kelas                0.250\n",
       "dtype: float64"
      ]
     },
     "execution_count": 14,
     "metadata": {},
     "output_type": "execute_result"
    }
   ],
   "source": [
    "df.var(numeric_only = True).round(3)"
   ]
  },
  {
   "cell_type": "markdown",
   "metadata": {},
   "source": [
    "##### f) Range"
   ]
  },
  {
   "cell_type": "code",
   "execution_count": 15,
   "metadata": {},
   "outputs": [
    {
     "data": {
      "text/plain": [
       "id              499.000\n",
       "Daerah         4931.000\n",
       "SumbuUtama      153.795\n",
       "SumbuKecil       29.071\n",
       "Keunikan          0.194\n",
       "AreaBulatan    5141.000\n",
       "Diameter         40.747\n",
       "KadarAir          0.469\n",
       "Keliling        291.822\n",
       "Bulatan           0.730\n",
       "Ransum            1.024\n",
       "Kelas             1.000\n",
       "dtype: float64"
      ]
     },
     "execution_count": 15,
     "metadata": {},
     "output_type": "execute_result"
    }
   ],
   "source": [
    "(df.max(numeric_only = True)-df.min(numeric_only = True)).round(3)"
   ]
  },
  {
   "cell_type": "markdown",
   "metadata": {},
   "source": [
    "##### g) Nilai minimum"
   ]
  },
  {
   "cell_type": "code",
   "execution_count": 16,
   "metadata": {},
   "outputs": [
    {
     "data": {
      "text/plain": [
       "id                1.000\n",
       "Daerah         2522.000\n",
       "SumbuUtama       74.133\n",
       "SumbuKecil       39.907\n",
       "Keunikan          0.720\n",
       "AreaBulatan    2579.000\n",
       "Diameter         56.667\n",
       "KadarAir          0.410\n",
       "Keliling        197.015\n",
       "Bulatan           0.175\n",
       "Ransum            1.441\n",
       "Kelas             1.000\n",
       "dtype: float64"
      ]
     },
     "execution_count": 16,
     "metadata": {},
     "output_type": "execute_result"
    }
   ],
   "source": [
    "df.min(numeric_only = True).round(3)"
   ]
  },
  {
   "cell_type": "markdown",
   "metadata": {},
   "source": [
    "##### h) Nilai maksimum"
   ]
  },
  {
   "cell_type": "code",
   "execution_count": 17,
   "metadata": {},
   "outputs": [
    {
     "data": {
      "text/plain": [
       "id              500.000\n",
       "Daerah         7453.000\n",
       "SumbuUtama      227.929\n",
       "SumbuKecil       68.978\n",
       "Keunikan          0.914\n",
       "AreaBulatan    7720.000\n",
       "Diameter         97.414\n",
       "KadarAir          0.879\n",
       "Keliling        488.837\n",
       "Bulatan           0.905\n",
       "Ransum            2.465\n",
       "Kelas             2.000\n",
       "dtype: float64"
      ]
     },
     "execution_count": 17,
     "metadata": {},
     "output_type": "execute_result"
    }
   ],
   "source": [
    "df.max(numeric_only = True).round(3)"
   ]
  },
  {
   "cell_type": "markdown",
   "metadata": {},
   "source": [
    "##### i) Kuartil & IQR"
   ]
  },
  {
   "cell_type": "markdown",
   "metadata": {},
   "source": [
    "Kuartil 1"
   ]
  },
  {
   "cell_type": "code",
   "execution_count": 18,
   "metadata": {},
   "outputs": [
    {
     "data": {
      "text/plain": [
       "id              125.750\n",
       "Daerah         4042.750\n",
       "SumbuUtama      104.116\n",
       "SumbuKecil       51.194\n",
       "Keunikan          0.864\n",
       "AreaBulatan    4170.250\n",
       "Diameter         71.745\n",
       "KadarAir          0.573\n",
       "Keliling        255.883\n",
       "Bulatan           0.732\n",
       "Ransum            1.984\n",
       "Kelas             1.000\n",
       "Name: 0.25, dtype: float64"
      ]
     },
     "execution_count": 18,
     "metadata": {},
     "output_type": "execute_result"
    }
   ],
   "source": [
    "df.quantile(0.25, numeric_only = True).round(3)"
   ]
  },
  {
   "cell_type": "markdown",
   "metadata": {},
   "source": [
    "Kuartil 2"
   ]
  },
  {
   "cell_type": "code",
   "execution_count": 19,
   "metadata": {},
   "outputs": [
    {
     "data": {
      "text/plain": [
       "id              250.500\n",
       "Daerah         4735.000\n",
       "SumbuUtama      115.405\n",
       "SumbuKecil       53.731\n",
       "Keunikan          0.890\n",
       "AreaBulatan    4857.000\n",
       "Diameter         77.645\n",
       "KadarAir          0.626\n",
       "Keliling        280.045\n",
       "Bulatan           0.761\n",
       "Ransum            2.194\n",
       "Kelas             2.000\n",
       "Name: 0.5, dtype: float64"
      ]
     },
     "execution_count": 19,
     "metadata": {},
     "output_type": "execute_result"
    }
   ],
   "source": [
    "df.quantile(0.5, numeric_only = True).round(3)"
   ]
  },
  {
   "cell_type": "markdown",
   "metadata": {},
   "source": [
    "Kuartil 3"
   ]
  },
  {
   "cell_type": "code",
   "execution_count": 20,
   "metadata": {},
   "outputs": [
    {
     "data": {
      "text/plain": [
       "id              375.250\n",
       "Daerah         5495.500\n",
       "SumbuUtama      129.047\n",
       "SumbuKecil       56.325\n",
       "Keunikan          0.908\n",
       "AreaBulatan    5654.250\n",
       "Diameter         83.649\n",
       "KadarAir          0.727\n",
       "Keliling        306.062\n",
       "Bulatan           0.796\n",
       "Ransum            2.382\n",
       "Kelas             2.000\n",
       "Name: 0.75, dtype: float64"
      ]
     },
     "execution_count": 20,
     "metadata": {},
     "output_type": "execute_result"
    }
   ],
   "source": [
    "df.quantile(0.75, numeric_only = True).round(3)"
   ]
  },
  {
   "cell_type": "markdown",
   "metadata": {},
   "source": [
    "IQR"
   ]
  },
  {
   "cell_type": "code",
   "execution_count": 21,
   "metadata": {},
   "outputs": [
    {
     "data": {
      "text/plain": [
       "id              249.500\n",
       "Daerah         1452.750\n",
       "SumbuUtama       24.931\n",
       "SumbuKecil        5.132\n",
       "Keunikan          0.044\n",
       "AreaBulatan    1484.000\n",
       "Diameter         11.903\n",
       "KadarAir          0.154\n",
       "Keliling         50.180\n",
       "Bulatan           0.064\n",
       "Ransum            0.398\n",
       "Kelas             1.000\n",
       "dtype: float64"
      ]
     },
     "execution_count": 21,
     "metadata": {},
     "output_type": "execute_result"
    }
   ],
   "source": [
    "(df.quantile(0.75, numeric_only = True)-df.quantile(0.25, numeric_only = True)).round(3)"
   ]
  },
  {
   "cell_type": "markdown",
   "metadata": {},
   "source": [
    "##### j) Skewness"
   ]
  },
  {
   "cell_type": "code",
   "execution_count": 22,
   "metadata": {},
   "outputs": [
    {
     "data": {
      "text/plain": [
       "id             0.000\n",
       "Daerah         0.238\n",
       "SumbuUtama     0.762\n",
       "SumbuKecil    -0.011\n",
       "Keunikan      -1.623\n",
       "AreaBulatan    0.258\n",
       "Diameter       0.003\n",
       "KadarAir       0.494\n",
       "Keliling       0.734\n",
       "Bulatan       -3.599\n",
       "Ransum        -0.658\n",
       "Kelas         -0.008\n",
       "dtype: float64"
      ]
     },
     "execution_count": 22,
     "metadata": {},
     "output_type": "execute_result"
    }
   ],
   "source": [
    "df.skew(numeric_only = True).round(3)"
   ]
  },
  {
   "cell_type": "markdown",
   "metadata": {},
   "source": [
    "##### k) Kurtosis"
   ]
  },
  {
   "cell_type": "code",
   "execution_count": 23,
   "metadata": {},
   "outputs": [
    {
     "data": {
      "text/plain": [
       "id             -1.200\n",
       "Daerah         -0.435\n",
       "SumbuUtama      4.331\n",
       "SumbuKecil      0.476\n",
       "Keunikan        2.917\n",
       "AreaBulatan    -0.410\n",
       "Diameter       -0.466\n",
       "KadarAir       -0.740\n",
       "Keliling        2.273\n",
       "Bulatan        29.975\n",
       "Ransum         -0.429\n",
       "Kelas          -2.008\n",
       "dtype: float64"
      ]
     },
     "execution_count": 23,
     "metadata": {},
     "output_type": "execute_result"
    }
   ],
   "source": [
    "df.kurtosis(numeric_only = True).round(3)"
   ]
  },
  {
   "cell_type": "markdown",
   "metadata": {},
   "source": [
    "#### 2. Data Visualization"
   ]
  },
  {
   "cell_type": "markdown",
   "metadata": {},
   "source": [
    "##### 2.1 Histogram"
   ]
  },
  {
   "cell_type": "code",
   "execution_count": 24,
   "metadata": {},
   "outputs": [
    {
     "data": {
      "image/png": "[encoded data removed]",
      "text/plain": [
       "<Figure size 1440x1440 with 12 Axes>"
      ]
     },
     "metadata": {
      "needs_background": "light"
     },
     "output_type": "display_data"
    }
   ],
   "source": [
    "df.hist(figsize=(20,20))\n",
    "plt.show()"
   ]
  },
  {
   "cell_type": "markdown",
   "metadata": {},
   "source": [
    "Dari histogram kolom-kolom diatas, kita dapat melihat bahwa setiap kolom memiliki distribusi yang berbeda. Hal yang lumayan mencolok adalah kolom id yang berdistribusi uniform dan kolom Kelas yang memiliki hanya memiliki dua buah persebaran nilai. Dapat dilihat juga bahwa kolom-kolom yang mempunyai nilai skewness yang negatif (seperti yang telah dihitung pada bagian deskripsi statistik sebelumnya) berarti memiliki kemiringan pada sisi kiri grafik yang lebih panjang sehingga nilai-nilai mean dan juga median akan lebih kecil daripada nilai modusnya dan berlaku pula untuk kebalikannya yaitu saat memiliki skewness positif.\n",
    "\n",
    "Pada beberapa histogram dari kolom, dapat juga dilihat sebuah outlier, yang merupakan data yang berbeda secara signifikan dari data-data yang lain seperti pada kolom SumbuUtama yang memiliki outlier atas dengan nilai sekitar 220 dan juga kolom Keliling dengan outlier atas bernilai sekitar 450. Selain itu, kita juga dapat melihat outlier bawah seperti yang terdapat pada kolom Bulatan dengan nilai diantara 0.2 dan 0.3 serta kolom kadar air pada nilai diantara 0.725-0.800 ."
   ]
  },
  {
   "cell_type": "markdown",
   "metadata": {},
   "source": [
    "##### 2.2 Boxplot"
   ]
  },
  {
   "cell_type": "code",
   "execution_count": 25,
   "metadata": {},
   "outputs": [
    {
     "data": {
      "image/png": "[encoded data removed]",
      "text/plain": [
       "<Figure size 1008x1008 with 12 Axes>"
      ]
     },
     "metadata": {
      "needs_background": "light"
     },
     "output_type": "display_data"
    }
   ],
   "source": [
    "boxCols = 3\n",
    "boxRows = math.ceil(len(df.columns)/boxCols)\n",
    "\n",
    "fig, axes = plt.subplots(nrows=boxRows, ncols=boxCols, figsize=(14,14))\n",
    "\n",
    "row = 0\n",
    "for i, col in enumerate(df.columns):\n",
    "    df.boxplot(column=col, ax=axes[row, i%boxCols])\n",
    "    if i % boxCols == boxCols-1:\n",
    "        row += 1\n",
    "\n",
    "lastCol = (len(df.columns)+1)%boxCols-1\n",
    "for i in range(boxCols*boxRows-len(df.columns)):\n",
    "    fig.delaxes(axes[row, i+lastCol])\n",
    "plt.show()"
   ]
  },
  {
   "cell_type": "markdown",
   "metadata": {},
   "source": [
    "Sementara pada representasi boxplot diatas untuk setiap kolom, dapat dilihat bahwa kotak dari setiap diagram menggambarkan kuartil dari setiap data kolom dengan panjang kolom sebagai IQR (interkuartil) dengan ujung box paling atas merupakan Q3 atau kuartil 3 dan ujung box paling bawah merupakan Q1 atau kuartil 1. Kemudian, kita juga dapat mengetahui nilai tengah atau median dari data, yang dapat dilihat pada garis tengah di box pada boxplot.\n",
    "\n",
    "Lalu, pada beberapa kolom terdapat juga data-data outliers seperti pada bagian data histogram. Outlier ini dapat kita lihat sebagai lingkaran yang letaknya berada di bawah nilai minimum atau di atas nilai maksimum. Outlier pada boxplot dapat lebih jelas kita identifikasi jika dibandingkan dengan menggunakan histogram. Kolom-kolom yang terdapat outlier adalah SumbuKecil, Keunikan, Keliling, dan Bulatan."
   ]
  },
  {
   "cell_type": "markdown",
   "metadata": {},
   "source": [
    "#### 3. Normality Test"
   ]
  },
  {
   "cell_type": "markdown",
   "metadata": {},
   "source": [
    "Hipotesis null yang ditentukan adalah, **\"suatu data dikatakan berdistribusi normal jika histogram plotnya memiliki bentuk *Gaussian Shape* atau sering juga kita ketahui sebagai grafik distribusi normal\"**.\n",
    "\n",
    "Normality test yang akan digunakan adalah **Shapiro-Wilk Test**. Dari Shapiro-Wilk test, kita bisa mendapatkan *p-value* dan kemudian kita dapat menolak hipotesis null kita jika *p-value* lebih kecil dibanding tingkat signifikansi α yang diinginkan, yaitu 0.05 ."
   ]
  },
  {
   "cell_type": "code",
   "execution_count": 26,
   "metadata": {
    "scrolled": false
   },
   "outputs": [
    {
     "name": "stdout",
     "output_type": "stream",
     "text": [
      "============================================================\n",
      "Shapiro-Wilk: 0.9547221064567566, p: 2.945410582100294e-11\n",
      "Tidak memiliki bentuk Gaussian\n"
     ]
    },
    {
     "data": {
      "image/png": "[encoded data removed]",
      "text/plain": [
       "<Figure size 432x288 with 1 Axes>"
      ]
     },
     "metadata": {
      "needs_background": "light"
     },
     "output_type": "display_data"
    },
    {
     "name": "stdout",
     "output_type": "stream",
     "text": [
      "============================================================\n",
      "Shapiro-Wilk: 0.9907860159873962, p: 0.003270698245614767\n",
      "Tidak memiliki bentuk Gaussian\n"
     ]
    },
    {
     "data": {
      "image/png": "[encoded data removed]",
      "text/plain": [
       "<Figure size 432x288 with 1 Axes>"
      ]
     },
     "metadata": {
      "needs_background": "light"
     },
     "output_type": "display_data"
    },
    {
     "name": "stdout",
     "output_type": "stream",
     "text": [
      "============================================================\n",
      "Shapiro-Wilk: 0.9513812065124512, p: 9.236201213569384e-12\n",
      "Tidak memiliki bentuk Gaussian\n"
     ]
    },
    {
     "data": {
      "image/png": "[encoded data removed]",
      "text/plain": [
       "<Figure size 432x288 with 1 Axes>"
      ]
     },
     "metadata": {
      "needs_background": "light"
     },
     "output_type": "display_data"
    },
    {
     "name": "stdout",
     "output_type": "stream",
     "text": [
      "============================================================\n",
      "Shapiro-Wilk: 0.996778666973114, p: 0.4234558641910553\n",
      "Memiliki bentuk Gaussian\n"
     ]
    },
    {
     "data": {
      "image/png": "[encoded data removed]",
      "text/plain": [
       "<Figure size 432x288 with 1 Axes>"
      ]
     },
     "metadata": {
      "needs_background": "light"
     },
     "output_type": "display_data"
    },
    {
     "name": "stdout",
     "output_type": "stream",
     "text": [
      "============================================================\n",
      "Shapiro-Wilk: 0.8309029340744019, p: 1.3151663082081454e-22\n",
      "Tidak memiliki bentuk Gaussian\n"
     ]
    },
    {
     "data": {
      "image/png": "[encoded data removed]",
      "text/plain": [
       "<Figure size 432x288 with 1 Axes>"
      ]
     },
     "metadata": {
      "needs_background": "light"
     },
     "output_type": "display_data"
    },
    {
     "name": "stdout",
     "output_type": "stream",
     "text": [
      "============================================================\n",
      "Shapiro-Wilk: 0.990435779094696, p: 0.0024847122840583324\n",
      "Tidak memiliki bentuk Gaussian\n"
     ]
    },
    {
     "data": {
      "image/png": "[encoded data removed]",
      "text/plain": [
       "<Figure size 432x288 with 1 Axes>"
      ]
     },
     "metadata": {
      "needs_background": "light"
     },
     "output_type": "display_data"
    },
    {
     "name": "stdout",
     "output_type": "stream",
     "text": [
      "============================================================\n",
      "Shapiro-Wilk: 0.9951366186141968, p: 0.11834503710269928\n",
      "Memiliki bentuk Gaussian\n"
     ]
    },
    {
     "data": {
      "image/png": "[encoded data removed]",
      "text/plain": [
       "<Figure size 432x288 with 1 Axes>"
      ]
     },
     "metadata": {
      "needs_background": "light"
     },
     "output_type": "display_data"
    },
    {
     "name": "stdout",
     "output_type": "stream",
     "text": [
      "============================================================\n",
      "Shapiro-Wilk: 0.9466671347618103, p: 1.959499836695633e-12\n",
      "Tidak memiliki bentuk Gaussian\n"
     ]
    },
    {
     "data": {
      "image/png": "[encoded data removed]",
      "text/plain": [
       "<Figure size 432x288 with 1 Axes>"
      ]
     },
     "metadata": {
      "needs_background": "light"
     },
     "output_type": "display_data"
    },
    {
     "name": "stdout",
     "output_type": "stream",
     "text": [
      "============================================================\n",
      "Shapiro-Wilk: 0.9692449569702148, p: 9.728394090302572e-09\n",
      "Tidak memiliki bentuk Gaussian\n"
     ]
    },
    {
     "data": {
      "image/png": "[encoded data removed]",
      "text/plain": [
       "<Figure size 432x288 with 1 Axes>"
      ]
     },
     "metadata": {
      "needs_background": "light"
     },
     "output_type": "display_data"
    },
    {
     "name": "stdout",
     "output_type": "stream",
     "text": [
      "============================================================\n",
      "Shapiro-Wilk: 0.7697757482528687, p: 6.899158691421287e-26\n",
      "Tidak memiliki bentuk Gaussian\n"
     ]
    },
    {
     "data": {
      "image/png": "[encoded data removed]",
      "text/plain": [
       "<Figure size 432x288 with 1 Axes>"
      ]
     },
     "metadata": {
      "needs_background": "light"
     },
     "output_type": "display_data"
    },
    {
     "name": "stdout",
     "output_type": "stream",
     "text": [
      "============================================================\n",
      "Shapiro-Wilk: 0.9265043139457703, p: 6.245541108888591e-15\n",
      "Tidak memiliki bentuk Gaussian\n"
     ]
    },
    {
     "data": {
      "image/png": "[encoded data removed]",
      "text/plain": [
       "<Figure size 432x288 with 1 Axes>"
      ]
     },
     "metadata": {
      "needs_background": "light"
     },
     "output_type": "display_data"
    },
    {
     "name": "stdout",
     "output_type": "stream",
     "text": [
      "============================================================\n",
      "Shapiro-Wilk: 0.6365421414375305, p: 3.5514183439331154e-31\n",
      "Tidak memiliki bentuk Gaussian\n"
     ]
    },
    {
     "data": {
      "image/png": "[encoded data removed]",
      "text/plain": [
       "<Figure size 432x288 with 1 Axes>"
      ]
     },
     "metadata": {
      "needs_background": "light"
     },
     "output_type": "display_data"
    }
   ],
   "source": [
    "def norm_test(df, col):\n",
    "    print(\"============================================================\")\n",
    "    # Normality test\n",
    "    W, p = stats.shapiro(df[col])\n",
    "    print(\"Shapiro-Wilk: {0}, p: {1}\".format(W,p))\n",
    "    # Interpret\n",
    "    alpha = 0.05\n",
    "    if p > alpha:\n",
    "        print('Memiliki bentuk Gaussian')\n",
    "    else:\n",
    "        print('Tidak memiliki bentuk Gaussian')\n",
    "    sns.distplot(df[col])\n",
    "    plt.title(\"Histogram plot kolom '\" + str(col) + \"'\")\n",
    "    plt.ylabel(\"Frekuensi\")\n",
    "    plt.show()\n",
    "\n",
    "for col in df:\n",
    "    norm_test(df, col)"
   ]
  },
  {
   "cell_type": "markdown",
   "metadata": {},
   "source": [
    "Oleh karena itu, berdasarkan test yang telah dilakukan, dapat disimpulkan bahwa kolom-kolom yang **berdistribusi normal** yaitu, kolom **'Diameter'**, dan **'SumbuKecil'**."
   ]
  },
  {
   "cell_type": "markdown",
   "metadata": {},
   "source": [
    "#### 4. Test Hipotesis 1 Sampel"
   ]
  },
  {
   "cell_type": "markdown",
   "metadata": {},
   "source": [
    "a. Nilai rata-rata Daerah di atas 4700 <br>\n",
    "&emsp; $H_0$ : mean = 4700 <br>\n",
    "&emsp; $H_1$ : mean > 4700 <br>\n",
    "&emsp; α = 0.05 <br>\n",
    "&emsp; Uji statistik : Z-test <br>\n",
    "&emsp; Zα = 1.645 <br>\n",
    "&emsp; Critical region : Z > 1.645"
   ]
  },
  {
   "cell_type": "code",
   "execution_count": 27,
   "metadata": {},
   "outputs": [
    {
     "name": "stdout",
     "output_type": "stream",
     "text": [
      "Z = 2.295153824252517\n",
      "Hipotesis H0 ditolak\n"
     ]
    },
    {
     "data": {
      "image/png": "[encoded data removed]",
      "text/plain": [
       "<Figure size 432x288 with 1 Axes>"
      ]
     },
     "metadata": {
      "needs_background": "light"
     },
     "output_type": "display_data"
    },
    {
     "name": "stdout",
     "output_type": "stream",
     "text": [
      "P-values = 0.010862155196799894\n"
     ]
    }
   ],
   "source": [
    "u = 4700\n",
    "z_alpha = 1.645\n",
    "rata2 = df['Daerah'].mean()\n",
    "std_deviasi = df['Daerah'].std()\n",
    "n = len(df.index)\n",
    "z = (rata2-u)/(std_deviasi/math.sqrt(n))\n",
    "print(\"Z = \" + str(z))\n",
    "if(z > z_alpha):\n",
    "    print(\"Hipotesis H0 ditolak\")\n",
    "else:\n",
    "    print(\"Hipotesis H0 diterima\")\n",
    "df.boxplot(column = 'Daerah')\n",
    "plt.show()\n",
    "\n",
    "p_values = stats.norm.sf(abs(z))\n",
    "print(\"P-values = \" + str(p_values))"
   ]
  },
  {
   "cell_type": "markdown",
   "metadata": {},
   "source": [
    "__Kesimpulan__ : Berdasarkan uji statistik, nilai Z terletak pada daerah kritis dan juga P-values lebih kecil dibandingkan dengan tingkat signifikansi α. Oleh karena itu, hipotesis $H_0$ __ditolak__ sehingga kita beralih ke hipotesis alternatif $H_1$ yaitu nilai rata-rata Daerah berada __DI ATAS__ 4700 dan setelah dilihat pada data, nilai rata-rata dari kolom Daerah yaitu 4801."
   ]
  },
  {
   "cell_type": "markdown",
   "metadata": {},
   "source": [
    "b. Nilai rata-rata SumbuUtama tidak sama dengan 116 <br>\n",
    "&emsp; $H_0$ : mean = 116 <br>\n",
    "&emsp; $H_1$ : mean ≠ 116 <br>\n",
    "&emsp; α = 0.05 <br>\n",
    "&emsp; Uji statistik : Z-test <br>\n",
    "&emsp; Z(α/2) = 1.960 <br>\n",
    "&emsp; Critical region : Z < -1.960 atau Z > 1.960 "
   ]
  },
  {
   "cell_type": "code",
   "execution_count": 28,
   "metadata": {},
   "outputs": [
    {
     "name": "stdout",
     "output_type": "stream",
     "text": [
      "Z = 0.055247123267335795\n",
      "Hipotesis H0 diterima\n"
     ]
    },
    {
     "data": {
      "image/png": "[encoded data removed]",
      "text/plain": [
       "<Figure size 432x288 with 1 Axes>"
      ]
     },
     "metadata": {
      "needs_background": "light"
     },
     "output_type": "display_data"
    },
    {
     "name": "stdout",
     "output_type": "stream",
     "text": [
      "P-values = 0.4779707936488622\n"
     ]
    }
   ],
   "source": [
    "u = 116\n",
    "z_alpha = 1.960\n",
    "rata2 = df['SumbuUtama'].mean()\n",
    "std_deviasi = df['SumbuUtama'].std()\n",
    "n = len(df.index)\n",
    "z = (rata2-u)/(std_deviasi/math.sqrt(n))\n",
    "print(\"Z = \" + str(z))\n",
    "if((z < -z_alpha) or (z > z_alpha)):\n",
    "    print(\"Hipotesis H0 ditolak\")\n",
    "else:\n",
    "    print(\"Hipotesis H0 diterima\")\n",
    "df.boxplot(column = 'SumbuUtama')\n",
    "plt.show()\n",
    "\n",
    "p_values = stats.norm.sf(abs(z))\n",
    "print(\"P-values = \" + str(p_values))"
   ]
  },
  {
   "cell_type": "markdown",
   "metadata": {},
   "source": [
    "__Kesimpulan__ : Berdasarkan uji statistik, nilai Z tidak terletak pada daerah kritis dan juga P-values jauh lebih besar dibandingkan dengan tingkat signifikansi α. Oleh karena itu, hipotesis $H_0$ __gagal untuk ditolak__ yaitu nilai rata-rata SumbuUtama __SAMA DENGAN__ 116. Setelah dilihat pada data, benar bahwa nilai rata-rata kolom SumbuUtama yaitu 116."
   ]
  },
  {
   "cell_type": "markdown",
   "metadata": {},
   "source": [
    "c. Nilai rata-rata 20 baris pertama kolom SumbuKecil bukan 50 <br>\n",
    "&emsp; $H_0$ : mean 20 baris pertama = 50 <br>\n",
    "&emsp; $H_1$ : mean 20 baris pertama ≠ 50 <br>\n",
    "&emsp; α = 0.05 <br>\n",
    "&emsp; Uji statistik : t-test <br>\n",
    "&emsp; v = 20-1 = 19 <br>\n",
    "&emsp; t(α/2) = 2.093 <br>\n",
    "&emsp; Critical region : t < -2.093 atau t > 2.093"
   ]
  },
  {
   "cell_type": "code",
   "execution_count": 29,
   "metadata": {},
   "outputs": [
    {
     "name": "stdout",
     "output_type": "stream",
     "text": [
      "t = 6.478168916968886\n",
      "Hipotesis H0 ditolak\n"
     ]
    },
    {
     "data": {
      "image/png": "[encoded data removed]",
      "text/plain": [
       "<Figure size 432x288 with 1 Axes>"
      ]
     },
     "metadata": {
      "needs_background": "light"
     },
     "output_type": "display_data"
    },
    {
     "name": "stdout",
     "output_type": "stream",
     "text": [
      "P-values = 1.65100928221228e-06\n"
     ]
    }
   ],
   "source": [
    "u = 50\n",
    "t_alpha = 2.093\n",
    "df_first20 = df.head(20)\n",
    "rata2 = df_first20['SumbuKecil'].mean()\n",
    "std_deviasi = df_first20['SumbuKecil'].std()\n",
    "n = len(df_first20.index)\n",
    "v = n-1\n",
    "t = (rata2-u)/(std_deviasi/math.sqrt(n))\n",
    "print(\"t = \" + str(t))\n",
    "if((t < -t_alpha) or (t > t_alpha)):\n",
    "    print(\"Hipotesis H0 ditolak\")\n",
    "else:\n",
    "    print(\"Hipotesis H0 diterima\")\n",
    "df.boxplot(column = 'SumbuKecil')\n",
    "plt.show()\n",
    "\n",
    "p_values = stats.t.sf(abs(t), v)\n",
    "print(\"P-values = \" + str(p_values))"
   ]
  },
  {
   "cell_type": "markdown",
   "metadata": {},
   "source": [
    "__Kesimpulan__ : Berdasarkan uji statistik, nilai t terletak pada daerah kritis dan juga P-values jauh lebih kecil dibandingkan dengan tingkat signifikansi α. Oleh karena itu, hipotesis $H_0$ __ditolak__ sehingga kita beralih ke hipotesis alternatif $H_1$ yaitu nilai rata-rata 20 baris pertama kolom SumbuKecil __BUKAN__ 50 dan setelah dihitung nilai rata-rata sebenarnya dari 20 baris pertama kolom SumbuKecil, nilainya adalah 54.89"
   ]
  },
  {
   "cell_type": "markdown",
   "metadata": {},
   "source": [
    "d. Proporsi nilai Diameter yang lebih dari 85, adalah tidak sama dengan 15% <br>\n",
    "&emsp; $H_0$ : p = 0.15 <br>\n",
    "&emsp; $H_1$ : p ≠ 0.15 <br>\n",
    "&emsp; α = 0.05 <br>\n",
    "&emsp; Uji statistik : Z-test <br>\n",
    "&emsp; Z(α/2) = 1.960 <br>\n",
    "&emsp; Critical region : Z < -1.960 atau Z > 1.960"
   ]
  },
  {
   "cell_type": "code",
   "execution_count": 30,
   "metadata": {},
   "outputs": [
    {
     "name": "stdout",
     "output_type": "stream",
     "text": [
      "z = 2.755386880774658\n",
      "Hipotesis H0 ditolak\n"
     ]
    },
    {
     "data": {
      "image/png": "[encoded data removed]",
      "text/plain": [
       "<Figure size 432x288 with 1 Axes>"
      ]
     },
     "metadata": {
      "needs_background": "light"
     },
     "output_type": "display_data"
    },
    {
     "name": "stdout",
     "output_type": "stream",
     "text": [
      "P-values = 0.002931138584204827\n"
     ]
    }
   ],
   "source": [
    "p = 0.15\n",
    "z_alpha = 1.960\n",
    "df_above85 = df[df['Diameter'] > 85]\n",
    "x = len(df_above85.index)\n",
    "n = len(df.index)\n",
    "p_hat = x/n\n",
    "z = (p_hat-p)/(math.sqrt(p*(1-p)/n))\n",
    "print(\"z = \" + str(z))\n",
    "if((z < -z_alpha) or (z > z_alpha)):\n",
    "    print(\"Hipotesis H0 ditolak\")\n",
    "else:\n",
    "    print(\"Hipotesis H0 diterima\")\n",
    "df.boxplot(column = 'Diameter')\n",
    "plt.show()\n",
    "\n",
    "p_values = stats.norm.sf(abs(z))\n",
    "print(\"P-values = \" + str(p_values))"
   ]
  },
  {
   "cell_type": "markdown",
   "metadata": {},
   "source": [
    "__Kesimpulan__ : Berdasarkan uji statistik, nilai Z terletak pada daerah kritis dan juga P-values yang jauh lebih kecil dibandingkan dengan tingkat signifikansi α. Oleh karena itu, hipotesis $H_0$ __ditolak__ sehingga kita beralih ke hipotesis alternatif $H_1$ yaitu proporsi nilai Diameter yang lebih dari 85 __TIDAK SAMA DENGAN__ 15%. Setelah dihitung proporsi nilai yang lebih dari 85 pada kolom Diameter, nilainya adalah 19.4%"
   ]
  },
  {
   "cell_type": "markdown",
   "metadata": {},
   "source": [
    "e. Proporsi nilai Keliling yang kurang dari 100, adalah kurang dari 5% <br>\n",
    "&emsp; $H_0$ : p = 0.05 <br>\n",
    "&emsp; $H_1$ : p < 0.05 <br>\n",
    "&emsp; α = 0.05 <br>\n",
    "&emsp; Uji statistik : Z-test <br>\n",
    "&emsp; Zα = 1.645 <br>\n",
    "&emsp; Critical region : Z < -1.645"
   ]
  },
  {
   "cell_type": "code",
   "execution_count": 31,
   "metadata": {},
   "outputs": [
    {
     "name": "stdout",
     "output_type": "stream",
     "text": [
      "z = -5.129891760425771\n",
      "Hipotesis H0 ditolak\n"
     ]
    },
    {
     "data": {
      "image/png": "[encoded data removed]",
      "text/plain": [
       "<Figure size 432x288 with 1 Axes>"
      ]
     },
     "metadata": {
      "needs_background": "light"
     },
     "output_type": "display_data"
    },
    {
     "name": "stdout",
     "output_type": "stream",
     "text": [
      "P-values = 1.4495441414387716e-07\n"
     ]
    }
   ],
   "source": [
    "p = 0.05\n",
    "z_alpha = 1.645\n",
    "df_below100 = df[df['Keliling'] < 100]\n",
    "x = len(df_below100.index)\n",
    "n = len(df.index)\n",
    "p_hat = x/n\n",
    "z = (p_hat-p)/(math.sqrt(p*(1-p)/n))\n",
    "print(\"z = \" + str(z))\n",
    "if(z < -z_alpha):\n",
    "    print(\"Hipotesis H0 ditolak\")\n",
    "else:\n",
    "    print(\"Hipotesis H0 diterima\")\n",
    "df.boxplot(column = 'Keliling')\n",
    "plt.show()\n",
    "\n",
    "p_values = stats.norm.sf(abs(z))\n",
    "print(\"P-values = \" + str(p_values))"
   ]
  },
  {
   "cell_type": "markdown",
   "metadata": {},
   "source": [
    "__Kesimpulan__ : Berdasarkan uji statistik, nilai Z terletak pada daerah kritis dan juga P-values yang jauh sangat lebih kecil dibandingkan dengan tingkat signifikansi α. Oleh karena itu, hipotesis $H_0$ __ditolak__ sehingga kita beralih ke hipotesis alternatif $H_1$ yaitu proporsi nilai Keliling yang kurang dari 100 adalah __KURANG DARI__ 5%. Setelah dilihat pada data, nilai minimal dari kolom Keliling adalah 197 sehingga tidak mungkin ada nilai Keliling yang kurang dari 100."
   ]
  },
  {
   "cell_type": "markdown",
   "metadata": {},
   "source": [
    "#### 5. Test Hipotesis 2 Sampel"
   ]
  },
  {
   "cell_type": "markdown",
   "metadata": {},
   "source": [
    "**a) Data kolom AreaBulatan dibagi 2 sama rata: bagian awal dan bagian akhir kolom.\n",
    "Benarkah rata-rata kedua bagian tersebut sama?**"
   ]
  },
  {
   "cell_type": "markdown",
   "metadata": {},
   "source": [
    "Dari pernyataan tersebut, dapat ditentukan hipotesis\n",
    "\n",
    "$H_0$: $\\mu_1$ = $\\mu_2$\n",
    "\n",
    "$H_1$: $\\mu_1$ $\\neq$ $\\mu_2$\n",
    "\n",
    "dengan $\\mu_1$ adalah rata-rata bagian awal kolom AreaBulatan dan $\\mu_2$ adalah rata-rata bagian akhir kolom AreaBulatan, serta $\\alpha$ = 0.05.\n",
    "\n",
    "Diasumsikan kolom AreaBulatan berdistribusi normal. Uji statistik yang akan digunakan adalah dengan z-test dan hipotesisnya merupakan hipotesis yang two-tailed"
   ]
  },
  {
   "cell_type": "code",
   "execution_count": 32,
   "metadata": {
    "scrolled": false
   },
   "outputs": [
    {
     "name": "stdout",
     "output_type": "stream",
     "text": [
      "Daerah kritisnya terletak di c < -1.65 atau c > 1.65\n"
     ]
    }
   ],
   "source": [
    "# Mencari daerah kritis\n",
    "sample = df.shape[0]//2\n",
    "def round_half_up(n, decimals=0):\n",
    "    # Untuk rounding half up\n",
    "    # Sumber : https://www.knowledgehut.com/blog/programming/python-rounding-numbers\n",
    "    mul = 10 ** decimals\n",
    "    return math.floor(n*mul + 0.5) / mul\n",
    "\n",
    "# Menggunakan round_half_up karena jika tidak akan bernilai 1.64\n",
    "# Tanpa round_half_up: 1.645 -> 1.64, Dengan round_half_up: 1.645 -> 1.65\n",
    "c_val = round_half_up(stats.norm.ppf(0.95).round(3),2)\n",
    "\n",
    "# Daerah kritis untuk two-tailed, p < -Po atau p > Po\n",
    "print(\"Daerah kritisnya terletak di c < {0} atau c > {1}\".format(abs(c_val)*(-1),abs(c_val)))"
   ]
  },
  {
   "cell_type": "markdown",
   "metadata": {},
   "source": [
    "Selanjutnya untuk menghitung nilai statistiknya digunakan rumus berikut\n",
    "\n",
    "$$z = \\frac{\\bar{X_1}-\\bar{X_2}-\\Delta}{\\sqrt{\\frac{\\sigma_1^2}{n_1} + \\frac{\\sigma_2^2}{n_2}}}$$"
   ]
  },
  {
   "cell_type": "code",
   "execution_count": 33,
   "metadata": {},
   "outputs": [
    {
     "name": "stdout",
     "output_type": "stream",
     "text": [
      "z = 17.013036648485464\n"
     ]
    }
   ],
   "source": [
    "def zmean(a, b, Delta, n1, n2):\n",
    "    std_err = math.sqrt((a.var()/n1)+(b.var()/n2))\n",
    "    z = (a.mean()-b.mean()-Delta)/std_err\n",
    "    return z\n",
    "\n",
    "# Menghitung nilai uji statistik\n",
    "area_1 = df['AreaBulatan'].head(sample) # Bagian awal kolom\n",
    "area_2 = df['AreaBulatan'].tail(sample) # Bagian akhir kolom\n",
    "result = zmean(area_1, area_2, 0, sample, sample)\n",
    "print(\"z = {0}\".format(result))"
   ]
  },
  {
   "cell_type": "code",
   "execution_count": 34,
   "metadata": {
    "scrolled": true
   },
   "outputs": [
    {
     "data": {
      "text/plain": [
       "<matplotlib.axes._subplots.AxesSubplot at 0x1aaf88557b8>"
      ]
     },
     "execution_count": 34,
     "metadata": {},
     "output_type": "execute_result"
    },
    {
     "data": {
      "image/png": "[encoded data removed]",
      "text/plain": [
       "<Figure size 432x288 with 1 Axes>"
      ]
     },
     "metadata": {
      "needs_background": "light"
     },
     "output_type": "display_data"
    }
   ],
   "source": [
    "# Boxplot\n",
    "data_to_plot = pd.DataFrame({\"AreaBulatan awal\": area_1, \"AreaBulatan akhir\": area_2})\n",
    "data_to_plot.boxplot()"
   ]
  },
  {
   "cell_type": "markdown",
   "metadata": {},
   "source": [
    "**Kesimpulan** : Karena z terletak pada daerah kritis, lebih tepatnya pada daerah c > 1.65, maka $H_0$ dapat **ditolak**"
   ]
  },
  {
   "cell_type": "markdown",
   "metadata": {},
   "source": [
    "**b) Data kolom Kadar Air dibagi 2 sama rata: bagian awal dan bagian akhir kolom. Benarkah\n",
    "rata-rata bagian awal lebih besar dari pada bagian akhir sebesar 0.2?**"
   ]
  },
  {
   "cell_type": "markdown",
   "metadata": {},
   "source": [
    "Dari pernyataan tersebut, dapat ditentukan hipotesis\n",
    "\n",
    "$H_0$: $\\mu_1$ - $\\mu_2$ = 0.2\n",
    "\n",
    "$H_1$: $\\mu_1$ - $\\mu_2$ $\\neq$ 0.2\n",
    "\n",
    "dengan $\\mu_1$ adalah rata-rata bagian awal kolom KadarAir dan $\\mu_2$ adalah rata-rata bagian akhir kolom KadarAir, serta $\\alpha$ = 0.05\n",
    "\n",
    "Diasumsikan kolom KadarAir berdistribusi normal. Uji statistik yang akan digunakan adalah dengan z-test dan hipotesisnya merupakan hipotesis yang two-tailed"
   ]
  },
  {
   "cell_type": "code",
   "execution_count": 35,
   "metadata": {},
   "outputs": [
    {
     "name": "stdout",
     "output_type": "stream",
     "text": [
      "Daerah kritisnya terletak di c < -1.65 atau c > 1.65\n"
     ]
    }
   ],
   "source": [
    "# Mencari daerah kritis\n",
    "c_val = round_half_up(stats.norm.ppf(0.95).round(3),2)\n",
    "\n",
    "# Daerah kritis untuk two-tailed, p < -Po atau p > Po\n",
    "print(\"Daerah kritisnya terletak di c < {0} atau c > {1}\".format(abs(c_val)*(-1),abs(c_val)))"
   ]
  },
  {
   "cell_type": "markdown",
   "metadata": {},
   "source": [
    "Selanjutnya untuk menghitung nilai statistiknya digunakan rumus berikut\n",
    "\n",
    "$$z = \\frac{\\bar{X_1}-\\bar{X_2}-\\Delta}{\\sqrt{\\frac{\\sigma_1^2}{n_1} + \\frac{\\sigma_2^2}{n_2}}}$$"
   ]
  },
  {
   "cell_type": "code",
   "execution_count": 36,
   "metadata": {},
   "outputs": [
    {
     "name": "stdout",
     "output_type": "stream",
     "text": [
      "z = -26.903444249744958\n"
     ]
    }
   ],
   "source": [
    "# Menghitung nilai uji statistik\n",
    "kadar_1 = df['KadarAir'].head(sample) # Bagian awal kolom\n",
    "kadar_2 = df['KadarAir'].tail(sample) # Bagian akhir kolom\n",
    "result = zmean(kadar_1, kadar_2, 0.2, sample, sample)\n",
    "print(\"z = {0}\".format(result))"
   ]
  },
  {
   "cell_type": "code",
   "execution_count": 37,
   "metadata": {},
   "outputs": [
    {
     "data": {
      "text/plain": [
       "<matplotlib.axes._subplots.AxesSubplot at 0x1aaf8eda438>"
      ]
     },
     "execution_count": 37,
     "metadata": {},
     "output_type": "execute_result"
    },
    {
     "data": {
      "image/png": "[encoded data removed]",
      "text/plain": [
       "<Figure size 432x288 with 1 Axes>"
      ]
     },
     "metadata": {
      "needs_background": "light"
     },
     "output_type": "display_data"
    }
   ],
   "source": [
    "# Boxplot\n",
    "data_to_plot = pd.DataFrame({\"KadarAir awal\": kadar_1, \"KadarAir akhir\": kadar_2})\n",
    "data_to_plot.boxplot()"
   ]
  },
  {
   "cell_type": "markdown",
   "metadata": {},
   "source": [
    "**Kesimpulan** : Karena z terletak pada daerah kritis, lebih tepatnya pada daerah c < -1.65, maka $H_0$ dapat **ditolak**"
   ]
  },
  {
   "cell_type": "markdown",
   "metadata": {},
   "source": [
    "**c) Rata-rata 20 baris pertama kolom Bulatan sama dengan 20 baris terakhirnya?**"
   ]
  },
  {
   "cell_type": "markdown",
   "metadata": {},
   "source": [
    "Dari pernyataan tersebut, dapat ditentukan hipotesis\n",
    "\n",
    "$H_0$: $\\mu_1$ = $\\mu_2$\n",
    "\n",
    "$H_1$: $\\mu_1$ $\\neq$ $\\mu_2$\n",
    "\n",
    "dengan $\\mu_1$ adalah rata-rata 20 baris pertama kolom Bulatan dan $\\mu_2$ adalah rata-rata 20 baris terakhir kolom Bulatan, serta $\\alpha$ = 0.05\n",
    "\n",
    "Diasumsikan kolom Bulatan berdistribusi normal. Uji statistik yang akan digunakan adalah dengan t-distribution karena sampel yang digunakan < 30 dan hipotesisnya merupakan hipotesis yang two-tailed"
   ]
  },
  {
   "cell_type": "code",
   "execution_count": 38,
   "metadata": {},
   "outputs": [
    {
     "name": "stdout",
     "output_type": "stream",
     "text": [
      "Daerah kritisnya terletak di c < -1.965 atau c > 1.965\n"
     ]
    }
   ],
   "source": [
    "# Mencari daerah kritis\n",
    "def degreeFreedom2(n1,n2):\n",
    "    return (n1+n2-2)\n",
    "\n",
    "c_val = stats.t.ppf(0.975, degreeFreedom2(sample,sample)).round(3)\n",
    "\n",
    "# Daerah kritis untuk two-tailed, p < -Po atau p > Po\n",
    "print(\"Daerah kritisnya terletak di c < {0} atau c > {1}\".format(abs(c_val)*(-1),abs(c_val)))"
   ]
  },
  {
   "cell_type": "markdown",
   "metadata": {},
   "source": [
    "Selanjutnya untuk menghitung nilai statistiknya digunakan rumus berikut\n",
    "\n",
    "$$t = \\frac{(\\bar{X_1}-\\bar{X_2})-(\\mu_1 -\\mu_2)}{\\sqrt{\\frac{\\sigma_1^2}{n_1} + \\frac{\\sigma_2^2}{n_2}}}$$"
   ]
  },
  {
   "cell_type": "code",
   "execution_count": 39,
   "metadata": {},
   "outputs": [
    {
     "name": "stdout",
     "output_type": "stream",
     "text": [
      "t = -3.3792268633124025\n"
     ]
    }
   ],
   "source": [
    "# Menghitung nilai uji statistik\n",
    "def tmean(a, b, mu1, mu2, n1, n2):\n",
    "    std_err = math.sqrt((a.var()/n1)+(b.var()/n2))\n",
    "    t = ((a.mean()-b.mean())-(mu1-mu2))/std_err\n",
    "    return t\n",
    "\n",
    "bulatan_1 = df['Bulatan'].head(20) # 20 Baris pertama kolom\n",
    "bulatan_2 = df['Bulatan'].tail(20) # 20 Baris terakhir kolom\n",
    "result = tmean(bulatan_1, bulatan_2, 0, 0, 20, 20)\n",
    "print(\"t = {0}\".format(result))"
   ]
  },
  {
   "cell_type": "code",
   "execution_count": 40,
   "metadata": {},
   "outputs": [
    {
     "data": {
      "text/plain": [
       "<matplotlib.axes._subplots.AxesSubplot at 0x1aaf8f619e8>"
      ]
     },
     "execution_count": 40,
     "metadata": {},
     "output_type": "execute_result"
    },
    {
     "data": {
      "image/png": "[encoded data removed]",
      "text/plain": [
       "<Figure size 432x288 with 1 Axes>"
      ]
     },
     "metadata": {
      "needs_background": "light"
     },
     "output_type": "display_data"
    }
   ],
   "source": [
    "# Boxplot\n",
    "data_to_plot = pd.DataFrame({\"20 baris awal Bulatan\": bulatan_1, \"20 baris akhir Bulatan\": bulatan_2})\n",
    "data_to_plot.boxplot()"
   ]
  },
  {
   "cell_type": "markdown",
   "metadata": {},
   "source": [
    "**Kesimpulan** : Karena t terletak pada daerah kritis, lebih tepatnya pada daerah c < -1.965, maka $H_0$ dapat **ditolak**"
   ]
  },
  {
   "cell_type": "markdown",
   "metadata": {},
   "source": [
    "**d) Proporsi nilai bagian awal Ransum yang lebih dari 2, adalah lebih besar daripada,\n",
    "proporsi nilai yang sama di bagian akhir Ransum?**"
   ]
  },
  {
   "cell_type": "markdown",
   "metadata": {},
   "source": [
    "Dari pernyataan tersebut, dapat ditentukan hipotesis\n",
    "\n",
    "$H_0$: P(X>2) = P(Y>2)\n",
    "\n",
    "$H_1$: P(X>2) > P(Y>2)\n",
    "\n",
    "dengan X adalah variabel random nilai bagian awal yang lebih dari 2 dan Y adalah variabel random nilai bagian akhir yang lebih dari 2, serta $\\alpha$ = 0.05\n",
    "\n",
    "Diasumsikan kolom Ransum berdistribusi normal. Uji statistik yang akan digunakan adalah dengan z-test dan hipotesisnya merupakan hipotesis yang one-tailed"
   ]
  },
  {
   "cell_type": "code",
   "execution_count": 41,
   "metadata": {},
   "outputs": [
    {
     "name": "stdout",
     "output_type": "stream",
     "text": [
      "Daerah kritisnya terletak di c > 1.65\n"
     ]
    }
   ],
   "source": [
    "# Mencari daerah kritis\n",
    "c_val = round_half_up(stats.norm.ppf(0.95).round(3),2)\n",
    "\n",
    "# Daerah kritis untuk one-tailed, c > p\n",
    "print(\"Daerah kritisnya terletak di c > {0}\".format(abs(c_val)))"
   ]
  },
  {
   "cell_type": "markdown",
   "metadata": {},
   "source": [
    "Selanjutnya untuk menghitung nilai statistiknya digunakan rumus berikut\n",
    "$$z_t = \\frac{(\\hat{p_1}-\\hat{p_2})-(p_1 -p_2)}{\\sqrt{\\hat{p_c}(1-\\hat{p_c})(\\frac{1}{n_1} + \\frac{1}{n_2})}}$$\n",
    "\n",
    "yang mana $\\hat{p_c}$ merupakan *pooled proportion* dari distribusi dan nilainya dihitung dengan\n",
    "$$\\hat{p_c} = \\frac{x_a+x_b}{n_a+n_b}$$"
   ]
  },
  {
   "cell_type": "code",
   "execution_count": 42,
   "metadata": {},
   "outputs": [
    {
     "name": "stdout",
     "output_type": "stream",
     "text": [
      "Zt = 13.397\n"
     ]
    }
   ],
   "source": [
    "# Menghitung nilai uji statistik\n",
    "def zscore(p1,p2,pc,n1,n2):\n",
    "    return (p1-p2)/math.sqrt(pc*(1-pc)*(1/n1+1/n2))\n",
    "\n",
    "def pooledProportion(Xa, Xb, Na, Nb):\n",
    "    return (Xa+Xb)/(Na+Nb)\n",
    "\n",
    "ransum_1 = pd.DataFrame(df['Ransum'].head(sample)) # Bagian awal kolom\n",
    "ransum_2 = pd.DataFrame(df['Ransum'].tail(sample)) # Bagian akhir kolom\n",
    "\n",
    "new_ransum_1 = ransum_1.loc[ransum_1['Ransum'] > 2]\n",
    "count1 = new_ransum_1.shape[0] # Jumlah data yang > 2 pada bagian awal\n",
    "new_ransum_2 = ransum_2.loc[ransum_2['Ransum'] > 2]\n",
    "count2 = new_ransum_2.shape[0] # Jumlah data yang > 2 pada bagian akhir\n",
    "\n",
    "p1 = count1/sample\n",
    "p2 = count2/sample\n",
    "pc = pooledProportion(count1, count2, sample, sample)\n",
    "zt = round(zscore(p1,p2,pc,sample,sample),3)\n",
    "print(\"Zt = {0}\".format(zt))"
   ]
  },
  {
   "cell_type": "markdown",
   "metadata": {},
   "source": [
    "**Kesimpulan** : Karena z terletak pada daerah kritis, maka $H_0$ dapat **ditolak**"
   ]
  },
  {
   "cell_type": "markdown",
   "metadata": {},
   "source": [
    "**e) Bagian awal kolom Diameter memiliki variansi yang sama dengan bagian akhirnya?**"
   ]
  },
  {
   "cell_type": "markdown",
   "metadata": {},
   "source": [
    "Dari pernyataan tersebut, dapat ditentukan hipotesis\n",
    "\n",
    "$H_0$: $\\sigma^2_1$ = $\\sigma^2_2$\n",
    "\n",
    "$H_1$: $\\sigma^2_1$ $\\neq$ $\\sigma^2_2$\n",
    "\n",
    "dengan $\\sigma^2_1$ adalah varians bagian awal dan $\\sigma^2_2$ adalah varians bagian akhir, serta $\\alpha$ = 0.05\n",
    "\n",
    "Diasumsikan kolom Diameter berdistribusi normal. Uji statistik yang akan digunakan adalah dengan f-test karena kita ingin mencari variansi dan hipotesisnya merupakan hipotesis yang two-tailed"
   ]
  },
  {
   "cell_type": "code",
   "execution_count": 43,
   "metadata": {},
   "outputs": [
    {
     "name": "stdout",
     "output_type": "stream",
     "text": [
      "Daerah kritisnya terletak di c > 1.289\n"
     ]
    }
   ],
   "source": [
    "# Mencari daerah kritis\n",
    "c_val = stats.f.ppf(0.975, 239, 239).round(3)\n",
    "\n",
    "# Daerah kritis untuk two-tailed, p > Po\n",
    "print(\"Daerah kritisnya terletak di c > {0}\".format(abs(c_val)))"
   ]
  },
  {
   "cell_type": "markdown",
   "metadata": {},
   "source": [
    "Selanjutnya untuk menghitung nilai statistiknya digunakan rumus berikut\n",
    "$$F = \\frac{larger  sample  variance}{smaller sample variance}$$"
   ]
  },
  {
   "cell_type": "code",
   "execution_count": 44,
   "metadata": {},
   "outputs": [
    {
     "name": "stdout",
     "output_type": "stream",
     "text": [
      "F = 1.0838780220421882\n"
     ]
    }
   ],
   "source": [
    "# Menghitung nilai uji statistik\n",
    "diameter_1 = df['Diameter'].head(sample) # Bagian awal kolom\n",
    "diameter_2 = df['Diameter'].tail(sample) # Bagian akhir kolom\n",
    "\n",
    "# Untuk two-tailed test, \n",
    "# Tentukan varians yang lebih besar\n",
    "if (diameter_1.var() > diameter_2.var()):\n",
    "    larger = diameter_1.var()\n",
    "    smaller = diameter_2.var()\n",
    "else:\n",
    "    larger = diameter_2.var()\n",
    "    smaller = diameter_1.var()\n",
    "    \n",
    "result = larger/smaller\n",
    "print(\"F = {0}\".format(result))"
   ]
  },
  {
   "cell_type": "code",
   "execution_count": 45,
   "metadata": {},
   "outputs": [
    {
     "data": {
      "text/plain": [
       "<matplotlib.axes._subplots.AxesSubplot at 0x1aaf8720198>"
      ]
     },
     "execution_count": 45,
     "metadata": {},
     "output_type": "execute_result"
    },
    {
     "data": {
      "image/png": "[encoded data removed]",
      "text/plain": [
       "<Figure size 432x288 with 1 Axes>"
      ]
     },
     "metadata": {
      "needs_background": "light"
     },
     "output_type": "display_data"
    }
   ],
   "source": [
    "# Boxplot\n",
    "data_to_plot = pd.DataFrame({\"Diameter awal\": diameter_1, \"Diameter akhir\": diameter_2})\n",
    "data_to_plot.boxplot()"
   ]
  },
  {
   "cell_type": "markdown",
   "metadata": {},
   "source": [
    "**Kesimpulan** : Karena tidak terletak pada daerah kritis, maka $H_0$ **gagal untuk ditolak**"
   ]
  },
  {
   "cell_type": "markdown",
   "metadata": {},
   "source": [
    "#### 6. Correlation Test"
   ]
  },
  {
   "cell_type": "code",
   "execution_count": 46,
   "metadata": {
    "scrolled": false
   },
   "outputs": [
    {
     "name": "stdout",
     "output_type": "stream",
     "text": [
      "Korelasi antara kolom Daerah dan Kelas adalah -0.6027466517416654\n",
      "Kolom non-target Daerah tidak berkorelasi dengan kolom target Kelas\n"
     ]
    },
    {
     "data": {
      "image/png": "[encoded data removed]",
      "text/plain": [
       "<Figure size 432x288 with 1 Axes>"
      ]
     },
     "metadata": {
      "needs_background": "light"
     },
     "output_type": "display_data"
    },
    {
     "name": "stdout",
     "output_type": "stream",
     "text": [
      "Korelasi antara kolom SumbuUtama dan Kelas adalah -0.7130906104204592\n",
      "Kolom non-target SumbuUtama tidak berkorelasi dengan kolom target Kelas\n"
     ]
    },
    {
     "data": {
      "image/png": "[encoded data removed]",
      "text/plain": [
       "<Figure size 432x288 with 1 Axes>"
      ]
     },
     "metadata": {
      "needs_background": "light"
     },
     "output_type": "display_data"
    },
    {
     "name": "stdout",
     "output_type": "stream",
     "text": [
      "Korelasi antara kolom SumbuKecil dan Kelas adalah -0.15297517335535024\n",
      "Kolom non-target SumbuKecil tidak berkorelasi dengan kolom target Kelas\n"
     ]
    },
    {
     "data": {
      "image/png": "[encoded data removed]",
      "text/plain": [
       "<Figure size 432x288 with 1 Axes>"
      ]
     },
     "metadata": {
      "needs_background": "light"
     },
     "output_type": "display_data"
    },
    {
     "name": "stdout",
     "output_type": "stream",
     "text": [
      "Korelasi antara kolom Keunikan dan Kelas adalah -0.7304563686511927\n",
      "Kolom non-target Keunikan tidak berkorelasi dengan kolom target Kelas\n"
     ]
    },
    {
     "data": {
      "image/png": "[encoded data removed]",
      "text/plain": [
       "<Figure size 432x288 with 1 Axes>"
      ]
     },
     "metadata": {
      "needs_background": "light"
     },
     "output_type": "display_data"
    },
    {
     "name": "stdout",
     "output_type": "stream",
     "text": [
      "Korelasi antara kolom AreaBulatan dan Kelas adalah -0.6073125434153747\n",
      "Kolom non-target AreaBulatan tidak berkorelasi dengan kolom target Kelas\n"
     ]
    },
    {
     "data": {
      "image/png": "[encoded data removed]",
      "text/plain": [
       "<Figure size 432x288 with 1 Axes>"
      ]
     },
     "metadata": {
      "needs_background": "light"
     },
     "output_type": "display_data"
    },
    {
     "name": "stdout",
     "output_type": "stream",
     "text": [
      "Korelasi antara kolom Diameter dan Kelas adalah -0.6025356896618811\n",
      "Kolom non-target Diameter tidak berkorelasi dengan kolom target Kelas\n"
     ]
    },
    {
     "data": {
      "image/png": "[encoded data removed]",
      "text/plain": [
       "<Figure size 432x288 with 1 Axes>"
      ]
     },
     "metadata": {
      "needs_background": "light"
     },
     "output_type": "display_data"
    },
    {
     "name": "stdout",
     "output_type": "stream",
     "text": [
      "Korelasi antara kolom KadarAir dan Kelas adalah 0.13434422605727642\n",
      "Kolom non-target KadarAir berkorelasi dengan kolom target Kelas\n"
     ]
    },
    {
     "data": {
      "image/png": "[encoded data removed]",
      "text/plain": [
       "<Figure size 432x288 with 1 Axes>"
      ]
     },
     "metadata": {
      "needs_background": "light"
     },
     "output_type": "display_data"
    },
    {
     "name": "stdout",
     "output_type": "stream",
     "text": [
      "Korelasi antara kolom Keliling dan Kelas adalah -0.6348607454756853\n",
      "Kolom non-target Keliling tidak berkorelasi dengan kolom target Kelas\n"
     ]
    },
    {
     "data": {
      "image/png": "[encoded data removed]",
      "text/plain": [
       "<Figure size 432x288 with 1 Axes>"
      ]
     },
     "metadata": {
      "needs_background": "light"
     },
     "output_type": "display_data"
    },
    {
     "name": "stdout",
     "output_type": "stream",
     "text": [
      "Korelasi antara kolom Bulatan dan Kelas adalah 0.5450045317240073\n",
      "Kolom non-target Bulatan berkorelasi dengan kolom target Kelas\n"
     ]
    },
    {
     "data": {
      "image/png": "[encoded data removed]",
      "text/plain": [
       "<Figure size 432x288 with 1 Axes>"
      ]
     },
     "metadata": {
      "needs_background": "light"
     },
     "output_type": "display_data"
    },
    {
     "name": "stdout",
     "output_type": "stream",
     "text": [
      "Korelasi antara kolom Ransum dan Kelas adalah -0.8399038681287486\n",
      "Kolom non-target Ransum tidak berkorelasi dengan kolom target Kelas\n"
     ]
    },
    {
     "data": {
      "image/png": "[encoded data removed]",
      "text/plain": [
       "<Figure size 432x288 with 1 Axes>"
      ]
     },
     "metadata": {
      "needs_background": "light"
     },
     "output_type": "display_data"
    }
   ],
   "source": [
    "for atribut in col_names:\n",
    "    if(atribut == \"id\" or atribut == \"Kelas\"):\n",
    "        continue\n",
    "    kolom_target = df[atribut]\n",
    "    kolom_nonTarget = df[\"Kelas\"]\n",
    "    korelasi = kolom_target.corr(kolom_nonTarget)\n",
    "    print(\"Korelasi antara kolom \" + atribut + \" dan Kelas adalah \" + str(korelasi))\n",
    "    if(korelasi > 0):\n",
    "        print(\"Kolom non-target \" + atribut + \" berkorelasi dengan kolom target Kelas\")\n",
    "    else:\n",
    "        print(\"Kolom non-target \" + atribut + \" tidak berkorelasi dengan kolom target Kelas\")\n",
    "    \n",
    "    dataFrame = pd.DataFrame(data = df, columns = [atribut, 'Kelas'])\n",
    "    korelasiTitle = \"Scatter plot antara \" + atribut + \" dan kolom Kelas\"\n",
    "    dataFrame.plot.scatter(x = atribut, y = 'Kelas', title = korelasiTitle)\n",
    "    plt.show()"
   ]
  },
  {
   "cell_type": "markdown",
   "metadata": {},
   "source": [
    "Made with sweat and tears by:\n",
    "- Raihan Astrada Fathurrahman (13519113)\n",
    "- Maximillian Lukman (13519153)"
   ]
  }
 ],
 "metadata": {
  "kernelspec": {
   "display_name": "Python 3",
   "language": "python",
   "name": "python3"
  },
  "language_info": {
   "codemirror_mode": {
    "name": "ipython",
    "version": 3
   },
   "file_extension": ".py",
   "mimetype": "text/x-python",
   "name": "python",
   "nbconvert_exporter": "python",
   "pygments_lexer": "ipython3",
   "version": "3.7.3"
  }
 },
 "nbformat": 4,
 "nbformat_minor": 5
}
